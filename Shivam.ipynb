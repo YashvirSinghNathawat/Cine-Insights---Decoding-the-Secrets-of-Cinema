{
 "cells": [
  {
   "cell_type": "code",
   "execution_count": null,
   "id": "5ef011f2-b758-4da0-ab32-ced2f8692393",
   "metadata": {},
   "outputs": [],
   "source": []
  },
  {
   "cell_type": "code",
   "execution_count": null,
   "id": "ce9304b0-ae98-46b4-9004-fc685e200efd",
   "metadata": {},
   "outputs": [],
   "source": []
  },
  {
   "cell_type": "code",
   "execution_count": 240,
   "id": "378c2387-f8cb-4fee-870e-97d061f18216",
   "metadata": {},
   "outputs": [],
   "source": [
    "import dash\n",
    "from dash import html, dcc\n",
    "from dash.dependencies import Input, Output\n",
    "import plotly.graph_objects as go\n",
    "import plotly.express as px\n",
    "from plotly.subplots import make_subplots\n",
    "import pandas as pd\n",
    "\n",
    "\n",
    "app = dash.Dash(__name__ ,suppress_callback_exceptions=True)"
   ]
  },
  {
   "cell_type": "markdown",
   "id": "3747621c-89d9-4a1c-aa96-bf869f12480c",
   "metadata": {},
   "source": [
    "# Shivam"
   ]
  },
  {
   "cell_type": "code",
   "execution_count": 241,
   "id": "ce791f1b-c782-41ea-a8e3-f4b904d6b5f7",
   "metadata": {},
   "outputs": [],
   "source": [
    "import pickle\n",
    "with open('Shivam/genre_count_year_movies.pkl', 'rb') as file:\n",
    "    genre_count_year_movies = pickle.load(file)\n",
    "\n",
    "with open('Shivam/movies_dict.pkl', 'rb') as file:\n",
    "    movies_dict = pickle.load(file)\n",
    "\n",
    "with open('Shivam/genre_year_scatter_figures_dict.pkl', 'rb') as file:\n",
    "    genre_year_scatter_figures_dict = pickle.load(file)\n",
    "\n",
    "with open('Shivam/movies.pkl', 'rb') as file:\n",
    "    movies = pickle.load(file)\n",
    "\n",
    "with open('Shivam/fig_movies.pkl', 'rb') as file:\n",
    "    fig_movies = pickle.load(file)\n",
    "\n",
    "with open('Shivam/tv_series_revenue_df.pkl', 'rb') as file:\n",
    "    tv_series_revenue_df = pickle.load(file)\n",
    "\n",
    "with open('Shivam/similarity_content.pkl', 'rb') as file:\n",
    "    similarity_content = pickle.load(file)\n",
    "    \n",
    "with open('Shivam/tv_series_dict.pkl', 'rb') as file:\n",
    "    tv_series_dict = pickle.load(file)"
   ]
  },
  {
   "cell_type": "code",
   "execution_count": 242,
   "id": "cadecc8d-22f4-4460-9038-00784198dba3",
   "metadata": {},
   "outputs": [
    {
     "data": {
      "application/vnd.plotly.v1+json": {
       "config": {
        "plotlyServerURL": "https://plot.ly"
       },
       "data": [
        {
         "orientation": "h",
         "text": [
          71,
          74,
          80,
          137,
          144,
          183,
          200,
          229,
          320
         ],
         "type": "bar",
         "width": 0.9,
         "x": [
          71,
          74,
          80,
          137,
          144,
          183,
          200,
          229,
          320
         ],
         "y": [
          "Scifi",
          "Fantasy",
          "Mystery",
          "Horror",
          "Adventure",
          "Thriller",
          "Crime",
          "Romance",
          "Action"
         ]
        }
       ],
       "frames": [
        {
         "data": [
          {
           "marker": {
            "color": [
             "magenta",
             "orange",
             "yellow",
             "purple",
             "green",
             "lime",
             "red",
             "cyan",
             "blue"
            ]
           },
           "orientation": "h",
           "text": [
            71,
            74,
            80,
            137,
            144,
            183,
            200,
            229,
            320
           ],
           "type": "bar",
           "width": 0.9,
           "x": [
            71,
            74,
            80,
            137,
            144,
            183,
            200,
            229,
            320
           ],
           "y": [
            "Scifi",
            "Fantasy",
            "Mystery",
            "Horror",
            "Adventure",
            "Thriller",
            "Crime",
            "Romance",
            "Action"
           ]
          }
         ],
         "layout": {
          "font": {
           "size": 15
          },
          "title": {
           "font": {
            "size": 28
           },
           "text": "Genre Wise Movie Count: 1980",
           "x": 0.5,
           "xanchor": "center"
          },
          "xaxis": {
           "autorange": false,
           "range": [
            0,
            1600
           ],
           "title": {
            "font": {
             "size": 14
            },
            "text": "Count of Movies"
           }
          },
          "yaxis": {
           "autorange": false,
           "range": [
            -1,
            10
           ],
           "tickfont": {
            "size": 14
           }
          }
         }
        },
        {
         "data": [
          {
           "marker": {
            "color": [
             "magenta",
             "orange",
             "yellow",
             "purple",
             "green",
             "lime",
             "red",
             "cyan",
             "blue"
            ]
           },
           "orientation": "h",
           "text": [
            65,
            76,
            82,
            150,
            157,
            178,
            185,
            246,
            270
           ],
           "type": "bar",
           "width": 0.9,
           "x": [
            65,
            76,
            82,
            150,
            157,
            178,
            185,
            246,
            270
           ],
           "y": [
            "Scifi",
            "Fantasy",
            "Mystery",
            "Horror",
            "Adventure",
            "Thriller",
            "Crime",
            "Romance",
            "Action"
           ]
          }
         ],
         "layout": {
          "font": {
           "size": 15
          },
          "title": {
           "font": {
            "size": 28
           },
           "text": "Genre Wise Movie Count: 1981",
           "x": 0.5,
           "xanchor": "center"
          },
          "xaxis": {
           "autorange": false,
           "range": [
            0,
            1600
           ],
           "title": {
            "font": {
             "size": 14
            },
            "text": "Count of Movies"
           }
          },
          "yaxis": {
           "autorange": false,
           "range": [
            -1,
            10
           ],
           "tickfont": {
            "size": 14
           }
          }
         }
        },
        {
         "data": [
          {
           "marker": {
            "color": [
             "magenta",
             "yellow",
             "orange",
             "purple",
             "green",
             "lime",
             "red",
             "cyan",
             "blue"
            ]
           },
           "orientation": "h",
           "text": [
            67,
            83,
            96,
            144,
            158,
            184,
            196,
            240,
            302
           ],
           "type": "bar",
           "width": 0.9,
           "x": [
            67,
            83,
            96,
            144,
            158,
            184,
            196,
            240,
            302
           ],
           "y": [
            "Scifi",
            "Mystery",
            "Fantasy",
            "Horror",
            "Adventure",
            "Thriller",
            "Crime",
            "Romance",
            "Action"
           ]
          }
         ],
         "layout": {
          "font": {
           "size": 15
          },
          "title": {
           "font": {
            "size": 28
           },
           "text": "Genre Wise Movie Count: 1982",
           "x": 0.5,
           "xanchor": "center"
          },
          "xaxis": {
           "autorange": false,
           "range": [
            0,
            1600
           ],
           "title": {
            "font": {
             "size": 14
            },
            "text": "Count of Movies"
           }
          },
          "yaxis": {
           "autorange": false,
           "range": [
            -1,
            10
           ],
           "tickfont": {
            "size": 14
           }
          }
         }
        },
        {
         "data": [
          {
           "marker": {
            "color": [
             "yellow",
             "magenta",
             "purple",
             "orange",
             "green",
             "lime",
             "red",
             "cyan",
             "blue"
            ]
           },
           "orientation": "h",
           "text": [
            78,
            84,
            108,
            111,
            161,
            184,
            199,
            266,
            300
           ],
           "type": "bar",
           "width": 0.9,
           "x": [
            78,
            84,
            108,
            111,
            161,
            184,
            199,
            266,
            300
           ],
           "y": [
            "Mystery",
            "Scifi",
            "Horror",
            "Fantasy",
            "Adventure",
            "Thriller",
            "Crime",
            "Romance",
            "Action"
           ]
          }
         ],
         "layout": {
          "font": {
           "size": 15
          },
          "title": {
           "font": {
            "size": 28
           },
           "text": "Genre Wise Movie Count: 1983",
           "x": 0.5,
           "xanchor": "center"
          },
          "xaxis": {
           "autorange": false,
           "range": [
            0,
            1600
           ],
           "title": {
            "font": {
             "size": 14
            },
            "text": "Count of Movies"
           }
          },
          "yaxis": {
           "autorange": false,
           "range": [
            -1,
            10
           ],
           "tickfont": {
            "size": 14
           }
          }
         }
        },
        {
         "data": [
          {
           "marker": {
            "color": [
             "yellow",
             "orange",
             "purple",
             "magenta",
             "green",
             "lime",
             "red",
             "cyan",
             "blue"
            ]
           },
           "orientation": "h",
           "text": [
            77,
            96,
            107,
            109,
            141,
            209,
            212,
            268,
            301
           ],
           "type": "bar",
           "width": 0.9,
           "x": [
            77,
            96,
            107,
            109,
            141,
            209,
            212,
            268,
            301
           ],
           "y": [
            "Mystery",
            "Fantasy",
            "Horror",
            "Scifi",
            "Adventure",
            "Thriller",
            "Crime",
            "Romance",
            "Action"
           ]
          }
         ],
         "layout": {
          "font": {
           "size": 15
          },
          "title": {
           "font": {
            "size": 28
           },
           "text": "Genre Wise Movie Count: 1984",
           "x": 0.5,
           "xanchor": "center"
          },
          "xaxis": {
           "autorange": false,
           "range": [
            0,
            1600
           ],
           "title": {
            "font": {
             "size": 14
            },
            "text": "Count of Movies"
           }
          },
          "yaxis": {
           "autorange": false,
           "range": [
            -1,
            10
           ],
           "tickfont": {
            "size": 14
           }
          }
         }
        },
        {
         "data": [
          {
           "marker": {
            "color": [
             "yellow",
             "magenta",
             "orange",
             "purple",
             "green",
             "lime",
             "red",
             "cyan",
             "blue"
            ]
           },
           "orientation": "h",
           "text": [
            72,
            84,
            107,
            128,
            158,
            206,
            219,
            286,
            340
           ],
           "type": "bar",
           "width": 0.9,
           "x": [
            72,
            84,
            107,
            128,
            158,
            206,
            219,
            286,
            340
           ],
           "y": [
            "Mystery",
            "Scifi",
            "Fantasy",
            "Horror",
            "Adventure",
            "Thriller",
            "Crime",
            "Romance",
            "Action"
           ]
          }
         ],
         "layout": {
          "font": {
           "size": 15
          },
          "title": {
           "font": {
            "size": 28
           },
           "text": "Genre Wise Movie Count: 1985",
           "x": 0.5,
           "xanchor": "center"
          },
          "xaxis": {
           "autorange": false,
           "range": [
            0,
            1600
           ],
           "title": {
            "font": {
             "size": 14
            },
            "text": "Count of Movies"
           }
          },
          "yaxis": {
           "autorange": false,
           "range": [
            -1,
            10
           ],
           "tickfont": {
            "size": 14
           }
          }
         }
        },
        {
         "data": [
          {
           "marker": {
            "color": [
             "yellow",
             "magenta",
             "orange",
             "purple",
             "green",
             "lime",
             "red",
             "cyan",
             "blue"
            ]
           },
           "orientation": "h",
           "text": [
            82,
            99,
            118,
            147,
            167,
            228,
            254,
            296,
            371
           ],
           "type": "bar",
           "width": 0.9,
           "x": [
            82,
            99,
            118,
            147,
            167,
            228,
            254,
            296,
            371
           ],
           "y": [
            "Mystery",
            "Scifi",
            "Fantasy",
            "Horror",
            "Adventure",
            "Thriller",
            "Crime",
            "Romance",
            "Action"
           ]
          }
         ],
         "layout": {
          "font": {
           "size": 15
          },
          "title": {
           "font": {
            "size": 28
           },
           "text": "Genre Wise Movie Count: 1986",
           "x": 0.5,
           "xanchor": "center"
          },
          "xaxis": {
           "autorange": false,
           "range": [
            0,
            1600
           ],
           "title": {
            "font": {
             "size": 14
            },
            "text": "Count of Movies"
           }
          },
          "yaxis": {
           "autorange": false,
           "range": [
            -1,
            10
           ],
           "tickfont": {
            "size": 14
           }
          }
         }
        },
        {
         "data": [
          {
           "marker": {
            "color": [
             "yellow",
             "magenta",
             "orange",
             "green",
             "purple",
             "red",
             "cyan",
             "lime",
             "blue"
            ]
           },
           "orientation": "h",
           "text": [
            92,
            117,
            125,
            185,
            193,
            265,
            282,
            293,
            432
           ],
           "type": "bar",
           "width": 0.9,
           "x": [
            92,
            117,
            125,
            185,
            193,
            265,
            282,
            293,
            432
           ],
           "y": [
            "Mystery",
            "Scifi",
            "Fantasy",
            "Adventure",
            "Horror",
            "Crime",
            "Romance",
            "Thriller",
            "Action"
           ]
          }
         ],
         "layout": {
          "font": {
           "size": 15
          },
          "title": {
           "font": {
            "size": 28
           },
           "text": "Genre Wise Movie Count: 1987",
           "x": 0.5,
           "xanchor": "center"
          },
          "xaxis": {
           "autorange": false,
           "range": [
            0,
            1600
           ],
           "title": {
            "font": {
             "size": 14
            },
            "text": "Count of Movies"
           }
          },
          "yaxis": {
           "autorange": false,
           "range": [
            -1,
            10
           ],
           "tickfont": {
            "size": 14
           }
          }
         }
        },
        {
         "data": [
          {
           "marker": {
            "color": [
             "yellow",
             "magenta",
             "orange",
             "green",
             "purple",
             "red",
             "lime",
             "cyan",
             "blue"
            ]
           },
           "orientation": "h",
           "text": [
            106,
            112,
            148,
            176,
            244,
            259,
            295,
            301,
            470
           ],
           "type": "bar",
           "width": 0.9,
           "x": [
            106,
            112,
            148,
            176,
            244,
            259,
            295,
            301,
            470
           ],
           "y": [
            "Mystery",
            "Scifi",
            "Fantasy",
            "Adventure",
            "Horror",
            "Crime",
            "Thriller",
            "Romance",
            "Action"
           ]
          }
         ],
         "layout": {
          "font": {
           "size": 15
          },
          "title": {
           "font": {
            "size": 28
           },
           "text": "Genre Wise Movie Count: 1988",
           "x": 0.5,
           "xanchor": "center"
          },
          "xaxis": {
           "autorange": false,
           "range": [
            0,
            1600
           ],
           "title": {
            "font": {
             "size": 14
            },
            "text": "Count of Movies"
           }
          },
          "yaxis": {
           "autorange": false,
           "range": [
            -1,
            10
           ],
           "tickfont": {
            "size": 14
           }
          }
         }
        },
        {
         "data": [
          {
           "marker": {
            "color": [
             "yellow",
             "magenta",
             "orange",
             "green",
             "purple",
             "red",
             "cyan",
             "lime",
             "blue"
            ]
           },
           "orientation": "h",
           "text": [
            93,
            110,
            131,
            158,
            239,
            302,
            302,
            318,
            470
           ],
           "type": "bar",
           "width": 0.9,
           "x": [
            93,
            110,
            131,
            158,
            239,
            302,
            302,
            318,
            470
           ],
           "y": [
            "Mystery",
            "Scifi",
            "Fantasy",
            "Adventure",
            "Horror",
            "Crime",
            "Romance",
            "Thriller",
            "Action"
           ]
          }
         ],
         "layout": {
          "font": {
           "size": 15
          },
          "title": {
           "font": {
            "size": 28
           },
           "text": "Genre Wise Movie Count: 1989",
           "x": 0.5,
           "xanchor": "center"
          },
          "xaxis": {
           "autorange": false,
           "range": [
            0,
            1600
           ],
           "title": {
            "font": {
             "size": 14
            },
            "text": "Count of Movies"
           }
          },
          "yaxis": {
           "autorange": false,
           "range": [
            -1,
            10
           ],
           "tickfont": {
            "size": 14
           }
          }
         }
        },
        {
         "data": [
          {
           "marker": {
            "color": [
             "magenta",
             "yellow",
             "green",
             "orange",
             "purple",
             "cyan",
             "lime",
             "red",
             "blue"
            ]
           },
           "orientation": "h",
           "text": [
            94,
            103,
            139,
            139,
            196,
            284,
            311,
            336,
            500
           ],
           "type": "bar",
           "width": 0.9,
           "x": [
            94,
            103,
            139,
            139,
            196,
            284,
            311,
            336,
            500
           ],
           "y": [
            "Scifi",
            "Mystery",
            "Adventure",
            "Fantasy",
            "Horror",
            "Romance",
            "Thriller",
            "Crime",
            "Action"
           ]
          }
         ],
         "layout": {
          "font": {
           "size": 15
          },
          "title": {
           "font": {
            "size": 28
           },
           "text": "Genre Wise Movie Count: 1990",
           "x": 0.5,
           "xanchor": "center"
          },
          "xaxis": {
           "autorange": false,
           "range": [
            0,
            1600
           ],
           "title": {
            "font": {
             "size": 14
            },
            "text": "Count of Movies"
           }
          },
          "yaxis": {
           "autorange": false,
           "range": [
            -1,
            10
           ],
           "tickfont": {
            "size": 14
           }
          }
         }
        },
        {
         "data": [
          {
           "marker": {
            "color": [
             "magenta",
             "yellow",
             "orange",
             "green",
             "purple",
             "red",
             "lime",
             "cyan",
             "blue"
            ]
           },
           "orientation": "h",
           "text": [
            96,
            103,
            138,
            145,
            163,
            264,
            280,
            312,
            440
           ],
           "type": "bar",
           "width": 0.9,
           "x": [
            96,
            103,
            138,
            145,
            163,
            264,
            280,
            312,
            440
           ],
           "y": [
            "Scifi",
            "Mystery",
            "Fantasy",
            "Adventure",
            "Horror",
            "Crime",
            "Thriller",
            "Romance",
            "Action"
           ]
          }
         ],
         "layout": {
          "font": {
           "size": 15
          },
          "title": {
           "font": {
            "size": 28
           },
           "text": "Genre Wise Movie Count: 1991",
           "x": 0.5,
           "xanchor": "center"
          },
          "xaxis": {
           "autorange": false,
           "range": [
            0,
            1600
           ],
           "title": {
            "font": {
             "size": 14
            },
            "text": "Count of Movies"
           }
          },
          "yaxis": {
           "autorange": false,
           "range": [
            -1,
            10
           ],
           "tickfont": {
            "size": 14
           }
          }
         }
        },
        {
         "data": [
          {
           "marker": {
            "color": [
             "magenta",
             "yellow",
             "orange",
             "green",
             "purple",
             "red",
             "lime",
             "cyan",
             "blue"
            ]
           },
           "orientation": "h",
           "text": [
            72,
            86,
            109,
            110,
            155,
            271,
            296,
            361,
            410
           ],
           "type": "bar",
           "width": 0.9,
           "x": [
            72,
            86,
            109,
            110,
            155,
            271,
            296,
            361,
            410
           ],
           "y": [
            "Scifi",
            "Mystery",
            "Fantasy",
            "Adventure",
            "Horror",
            "Crime",
            "Thriller",
            "Romance",
            "Action"
           ]
          }
         ],
         "layout": {
          "font": {
           "size": 15
          },
          "title": {
           "font": {
            "size": 28
           },
           "text": "Genre Wise Movie Count: 1992",
           "x": 0.5,
           "xanchor": "center"
          },
          "xaxis": {
           "autorange": false,
           "range": [
            0,
            1600
           ],
           "title": {
            "font": {
             "size": 14
            },
            "text": "Count of Movies"
           }
          },
          "yaxis": {
           "autorange": false,
           "range": [
            -1,
            10
           ],
           "tickfont": {
            "size": 14
           }
          }
         }
        },
        {
         "data": [
          {
           "marker": {
            "color": [
             "magenta",
             "yellow",
             "green",
             "orange",
             "purple",
             "red",
             "cyan",
             "lime",
             "blue"
            ]
           },
           "orientation": "h",
           "text": [
            75,
            86,
            102,
            117,
            129,
            304,
            336,
            338,
            405
           ],
           "type": "bar",
           "width": 0.9,
           "x": [
            75,
            86,
            102,
            117,
            129,
            304,
            336,
            338,
            405
           ],
           "y": [
            "Scifi",
            "Mystery",
            "Adventure",
            "Fantasy",
            "Horror",
            "Crime",
            "Romance",
            "Thriller",
            "Action"
           ]
          }
         ],
         "layout": {
          "font": {
           "size": 15
          },
          "title": {
           "font": {
            "size": 28
           },
           "text": "Genre Wise Movie Count: 1993",
           "x": 0.5,
           "xanchor": "center"
          },
          "xaxis": {
           "autorange": false,
           "range": [
            0,
            1600
           ],
           "title": {
            "font": {
             "size": 14
            },
            "text": "Count of Movies"
           }
          },
          "yaxis": {
           "autorange": false,
           "range": [
            -1,
            10
           ],
           "tickfont": {
            "size": 14
           }
          }
         }
        },
        {
         "data": [
          {
           "marker": {
            "color": [
             "magenta",
             "yellow",
             "purple",
             "orange",
             "green",
             "red",
             "lime",
             "cyan",
             "blue"
            ]
           },
           "orientation": "h",
           "text": [
            74,
            103,
            113,
            119,
            129,
            276,
            331,
            348,
            391
           ],
           "type": "bar",
           "width": 0.9,
           "x": [
            74,
            103,
            113,
            119,
            129,
            276,
            331,
            348,
            391
           ],
           "y": [
            "Scifi",
            "Mystery",
            "Horror",
            "Fantasy",
            "Adventure",
            "Crime",
            "Thriller",
            "Romance",
            "Action"
           ]
          }
         ],
         "layout": {
          "font": {
           "size": 15
          },
          "title": {
           "font": {
            "size": 28
           },
           "text": "Genre Wise Movie Count: 1994",
           "x": 0.5,
           "xanchor": "center"
          },
          "xaxis": {
           "autorange": false,
           "range": [
            0,
            1600
           ],
           "title": {
            "font": {
             "size": 14
            },
            "text": "Count of Movies"
           }
          },
          "yaxis": {
           "autorange": false,
           "range": [
            -1,
            10
           ],
           "tickfont": {
            "size": 14
           }
          }
         }
        },
        {
         "data": [
          {
           "marker": {
            "color": [
             "yellow",
             "magenta",
             "orange",
             "green",
             "purple",
             "red",
             "lime",
             "cyan",
             "blue"
            ]
           },
           "orientation": "h",
           "text": [
            99,
            105,
            106,
            122,
            154,
            259,
            375,
            380,
            414
           ],
           "type": "bar",
           "width": 0.9,
           "x": [
            99,
            105,
            106,
            122,
            154,
            259,
            375,
            380,
            414
           ],
           "y": [
            "Mystery",
            "Scifi",
            "Fantasy",
            "Adventure",
            "Horror",
            "Crime",
            "Thriller",
            "Romance",
            "Action"
           ]
          }
         ],
         "layout": {
          "font": {
           "size": 15
          },
          "title": {
           "font": {
            "size": 28
           },
           "text": "Genre Wise Movie Count: 1995",
           "x": 0.5,
           "xanchor": "center"
          },
          "xaxis": {
           "autorange": false,
           "range": [
            0,
            1600
           ],
           "title": {
            "font": {
             "size": 14
            },
            "text": "Count of Movies"
           }
          },
          "yaxis": {
           "autorange": false,
           "range": [
            -1,
            10
           ],
           "tickfont": {
            "size": 14
           }
          }
         }
        },
        {
         "data": [
          {
           "marker": {
            "color": [
             "yellow",
             "magenta",
             "orange",
             "green",
             "purple",
             "red",
             "lime",
             "blue",
             "cyan"
            ]
           },
           "orientation": "h",
           "text": [
            91,
            106,
            115,
            123,
            124,
            265,
            338,
            361,
            386
           ],
           "type": "bar",
           "width": 0.9,
           "x": [
            91,
            106,
            115,
            123,
            124,
            265,
            338,
            361,
            386
           ],
           "y": [
            "Mystery",
            "Scifi",
            "Fantasy",
            "Adventure",
            "Horror",
            "Crime",
            "Thriller",
            "Action",
            "Romance"
           ]
          }
         ],
         "layout": {
          "font": {
           "size": 15
          },
          "title": {
           "font": {
            "size": 28
           },
           "text": "Genre Wise Movie Count: 1996",
           "x": 0.5,
           "xanchor": "center"
          },
          "xaxis": {
           "autorange": false,
           "range": [
            0,
            1600
           ],
           "title": {
            "font": {
             "size": 14
            },
            "text": "Count of Movies"
           }
          },
          "yaxis": {
           "autorange": false,
           "range": [
            -1,
            10
           ],
           "tickfont": {
            "size": 14
           }
          }
         }
        },
        {
         "data": [
          {
           "marker": {
            "color": [
             "orange",
             "yellow",
             "green",
             "magenta",
             "purple",
             "red",
             "lime",
             "blue",
             "cyan"
            ]
           },
           "orientation": "h",
           "text": [
            101,
            102,
            113,
            115,
            137,
            266,
            343,
            360,
            402
           ],
           "type": "bar",
           "width": 0.9,
           "x": [
            101,
            102,
            113,
            115,
            137,
            266,
            343,
            360,
            402
           ],
           "y": [
            "Fantasy",
            "Mystery",
            "Adventure",
            "Scifi",
            "Horror",
            "Crime",
            "Thriller",
            "Action",
            "Romance"
           ]
          }
         ],
         "layout": {
          "font": {
           "size": 15
          },
          "title": {
           "font": {
            "size": 28
           },
           "text": "Genre Wise Movie Count: 1997",
           "x": 0.5,
           "xanchor": "center"
          },
          "xaxis": {
           "autorange": false,
           "range": [
            0,
            1600
           ],
           "title": {
            "font": {
             "size": 14
            },
            "text": "Count of Movies"
           }
          },
          "yaxis": {
           "autorange": false,
           "range": [
            -1,
            10
           ],
           "tickfont": {
            "size": 14
           }
          }
         }
        },
        {
         "data": [
          {
           "marker": {
            "color": [
             "magenta",
             "orange",
             "yellow",
             "green",
             "purple",
             "red",
             "lime",
             "blue",
             "cyan"
            ]
           },
           "orientation": "h",
           "text": [
            98,
            117,
            130,
            132,
            149,
            312,
            363,
            368,
            432
           ],
           "type": "bar",
           "width": 0.9,
           "x": [
            98,
            117,
            130,
            132,
            149,
            312,
            363,
            368,
            432
           ],
           "y": [
            "Scifi",
            "Fantasy",
            "Mystery",
            "Adventure",
            "Horror",
            "Crime",
            "Thriller",
            "Action",
            "Romance"
           ]
          }
         ],
         "layout": {
          "font": {
           "size": 15
          },
          "title": {
           "font": {
            "size": 28
           },
           "text": "Genre Wise Movie Count: 1998",
           "x": 0.5,
           "xanchor": "center"
          },
          "xaxis": {
           "autorange": false,
           "range": [
            0,
            1600
           ],
           "title": {
            "font": {
             "size": 14
            },
            "text": "Count of Movies"
           }
          },
          "yaxis": {
           "autorange": false,
           "range": [
            -1,
            10
           ],
           "tickfont": {
            "size": 14
           }
          }
         }
        },
        {
         "data": [
          {
           "marker": {
            "color": [
             "yellow",
             "magenta",
             "orange",
             "green",
             "purple",
             "red",
             "blue",
             "lime",
             "cyan"
            ]
           },
           "orientation": "h",
           "text": [
            90,
            98,
            114,
            118,
            165,
            293,
            359,
            394,
            455
           ],
           "type": "bar",
           "width": 0.9,
           "x": [
            90,
            98,
            114,
            118,
            165,
            293,
            359,
            394,
            455
           ],
           "y": [
            "Mystery",
            "Scifi",
            "Fantasy",
            "Adventure",
            "Horror",
            "Crime",
            "Action",
            "Thriller",
            "Romance"
           ]
          }
         ],
         "layout": {
          "font": {
           "size": 15
          },
          "title": {
           "font": {
            "size": 28
           },
           "text": "Genre Wise Movie Count: 1999",
           "x": 0.5,
           "xanchor": "center"
          },
          "xaxis": {
           "autorange": false,
           "range": [
            0,
            1600
           ],
           "title": {
            "font": {
             "size": 14
            },
            "text": "Count of Movies"
           }
          },
          "yaxis": {
           "autorange": false,
           "range": [
            -1,
            10
           ],
           "tickfont": {
            "size": 14
           }
          }
         }
        },
        {
         "data": [
          {
           "marker": {
            "color": [
             "magenta",
             "yellow",
             "green",
             "orange",
             "purple",
             "red",
             "blue",
             "lime",
             "cyan"
            ]
           },
           "orientation": "h",
           "text": [
            99,
            128,
            137,
            141,
            183,
            351,
            369,
            430,
            505
           ],
           "type": "bar",
           "width": 0.9,
           "x": [
            99,
            128,
            137,
            141,
            183,
            351,
            369,
            430,
            505
           ],
           "y": [
            "Scifi",
            "Mystery",
            "Adventure",
            "Fantasy",
            "Horror",
            "Crime",
            "Action",
            "Thriller",
            "Romance"
           ]
          }
         ],
         "layout": {
          "font": {
           "size": 15
          },
          "title": {
           "font": {
            "size": 28
           },
           "text": "Genre Wise Movie Count: 2000",
           "x": 0.5,
           "xanchor": "center"
          },
          "xaxis": {
           "autorange": false,
           "range": [
            0,
            1600
           ],
           "title": {
            "font": {
             "size": 14
            },
            "text": "Count of Movies"
           }
          },
          "yaxis": {
           "autorange": false,
           "range": [
            -1,
            10
           ],
           "tickfont": {
            "size": 14
           }
          }
         }
        },
        {
         "data": [
          {
           "marker": {
            "color": [
             "magenta",
             "yellow",
             "green",
             "orange",
             "purple",
             "red",
             "lime",
             "blue",
             "cyan"
            ]
           },
           "orientation": "h",
           "text": [
            120,
            149,
            150,
            152,
            202,
            333,
            422,
            430,
            556
           ],
           "type": "bar",
           "width": 0.9,
           "x": [
            120,
            149,
            150,
            152,
            202,
            333,
            422,
            430,
            556
           ],
           "y": [
            "Scifi",
            "Mystery",
            "Adventure",
            "Fantasy",
            "Horror",
            "Crime",
            "Thriller",
            "Action",
            "Romance"
           ]
          }
         ],
         "layout": {
          "font": {
           "size": 15
          },
          "title": {
           "font": {
            "size": 28
           },
           "text": "Genre Wise Movie Count: 2001",
           "x": 0.5,
           "xanchor": "center"
          },
          "xaxis": {
           "autorange": false,
           "range": [
            0,
            1600
           ],
           "title": {
            "font": {
             "size": 14
            },
            "text": "Count of Movies"
           }
          },
          "yaxis": {
           "autorange": false,
           "range": [
            -1,
            10
           ],
           "tickfont": {
            "size": 14
           }
          }
         }
        },
        {
         "data": [
          {
           "marker": {
            "color": [
             "magenta",
             "yellow",
             "orange",
             "green",
             "purple",
             "red",
             "blue",
             "lime",
             "cyan"
            ]
           },
           "orientation": "h",
           "text": [
            108,
            148,
            154,
            163,
            215,
            312,
            427,
            431,
            610
           ],
           "type": "bar",
           "width": 0.9,
           "x": [
            108,
            148,
            154,
            163,
            215,
            312,
            427,
            431,
            610
           ],
           "y": [
            "Scifi",
            "Mystery",
            "Fantasy",
            "Adventure",
            "Horror",
            "Crime",
            "Action",
            "Thriller",
            "Romance"
           ]
          }
         ],
         "layout": {
          "font": {
           "size": 15
          },
          "title": {
           "font": {
            "size": 28
           },
           "text": "Genre Wise Movie Count: 2002",
           "x": 0.5,
           "xanchor": "center"
          },
          "xaxis": {
           "autorange": false,
           "range": [
            0,
            1600
           ],
           "title": {
            "font": {
             "size": 14
            },
            "text": "Count of Movies"
           }
          },
          "yaxis": {
           "autorange": false,
           "range": [
            -1,
            10
           ],
           "tickfont": {
            "size": 14
           }
          }
         }
        },
        {
         "data": [
          {
           "marker": {
            "color": [
             "magenta",
             "orange",
             "yellow",
             "green",
             "purple",
             "red",
             "blue",
             "lime",
             "cyan"
            ]
           },
           "orientation": "h",
           "text": [
            104,
            150,
            150,
            186,
            240,
            311,
            432,
            441,
            552
           ],
           "type": "bar",
           "width": 0.9,
           "x": [
            104,
            150,
            150,
            186,
            240,
            311,
            432,
            441,
            552
           ],
           "y": [
            "Scifi",
            "Fantasy",
            "Mystery",
            "Adventure",
            "Horror",
            "Crime",
            "Action",
            "Thriller",
            "Romance"
           ]
          }
         ],
         "layout": {
          "font": {
           "size": 15
          },
          "title": {
           "font": {
            "size": 28
           },
           "text": "Genre Wise Movie Count: 2003",
           "x": 0.5,
           "xanchor": "center"
          },
          "xaxis": {
           "autorange": false,
           "range": [
            0,
            1600
           ],
           "title": {
            "font": {
             "size": 14
            },
            "text": "Count of Movies"
           }
          },
          "yaxis": {
           "autorange": false,
           "range": [
            -1,
            10
           ],
           "tickfont": {
            "size": 14
           }
          }
         }
        },
        {
         "data": [
          {
           "marker": {
            "color": [
             "magenta",
             "orange",
             "green",
             "yellow",
             "red",
             "purple",
             "blue",
             "lime",
             "cyan"
            ]
           },
           "orientation": "h",
           "text": [
            139,
            160,
            187,
            199,
            289,
            308,
            463,
            512,
            575
           ],
           "type": "bar",
           "width": 0.9,
           "x": [
            139,
            160,
            187,
            199,
            289,
            308,
            463,
            512,
            575
           ],
           "y": [
            "Scifi",
            "Fantasy",
            "Adventure",
            "Mystery",
            "Crime",
            "Horror",
            "Action",
            "Thriller",
            "Romance"
           ]
          }
         ],
         "layout": {
          "font": {
           "size": 15
          },
          "title": {
           "font": {
            "size": 28
           },
           "text": "Genre Wise Movie Count: 2004",
           "x": 0.5,
           "xanchor": "center"
          },
          "xaxis": {
           "autorange": false,
           "range": [
            0,
            1600
           ],
           "title": {
            "font": {
             "size": 14
            },
            "text": "Count of Movies"
           }
          },
          "yaxis": {
           "autorange": false,
           "range": [
            -1,
            10
           ],
           "tickfont": {
            "size": 14
           }
          }
         }
        },
        {
         "data": [
          {
           "marker": {
            "color": [
             "magenta",
             "green",
             "orange",
             "yellow",
             "red",
             "purple",
             "blue",
             "lime",
             "cyan"
            ]
           },
           "orientation": "h",
           "text": [
            149,
            187,
            196,
            227,
            324,
            380,
            418,
            519,
            637
           ],
           "type": "bar",
           "width": 0.9,
           "x": [
            149,
            187,
            196,
            227,
            324,
            380,
            418,
            519,
            637
           ],
           "y": [
            "Scifi",
            "Adventure",
            "Fantasy",
            "Mystery",
            "Crime",
            "Horror",
            "Action",
            "Thriller",
            "Romance"
           ]
          }
         ],
         "layout": {
          "font": {
           "size": 15
          },
          "title": {
           "font": {
            "size": 28
           },
           "text": "Genre Wise Movie Count: 2005",
           "x": 0.5,
           "xanchor": "center"
          },
          "xaxis": {
           "autorange": false,
           "range": [
            0,
            1600
           ],
           "title": {
            "font": {
             "size": 14
            },
            "text": "Count of Movies"
           }
          },
          "yaxis": {
           "autorange": false,
           "range": [
            -1,
            10
           ],
           "tickfont": {
            "size": 14
           }
          }
         }
        },
        {
         "data": [
          {
           "marker": {
            "color": [
             "magenta",
             "green",
             "orange",
             "yellow",
             "red",
             "blue",
             "purple",
             "lime",
             "cyan"
            ]
           },
           "orientation": "h",
           "text": [
            151,
            213,
            220,
            221,
            353,
            436,
            464,
            633,
            660
           ],
           "type": "bar",
           "width": 0.9,
           "x": [
            151,
            213,
            220,
            221,
            353,
            436,
            464,
            633,
            660
           ],
           "y": [
            "Scifi",
            "Adventure",
            "Fantasy",
            "Mystery",
            "Crime",
            "Action",
            "Horror",
            "Thriller",
            "Romance"
           ]
          }
         ],
         "layout": {
          "font": {
           "size": 15
          },
          "title": {
           "font": {
            "size": 28
           },
           "text": "Genre Wise Movie Count: 2006",
           "x": 0.5,
           "xanchor": "center"
          },
          "xaxis": {
           "autorange": false,
           "range": [
            0,
            1600
           ],
           "title": {
            "font": {
             "size": 14
            },
            "text": "Count of Movies"
           }
          },
          "yaxis": {
           "autorange": false,
           "range": [
            -1,
            10
           ],
           "tickfont": {
            "size": 14
           }
          }
         }
        },
        {
         "data": [
          {
           "marker": {
            "color": [
             "magenta",
             "green",
             "orange",
             "yellow",
             "red",
             "blue",
             "purple",
             "lime",
             "cyan"
            ]
           },
           "orientation": "h",
           "text": [
            178,
            218,
            220,
            244,
            420,
            486,
            501,
            678,
            694
           ],
           "type": "bar",
           "width": 0.9,
           "x": [
            178,
            218,
            220,
            244,
            420,
            486,
            501,
            678,
            694
           ],
           "y": [
            "Scifi",
            "Adventure",
            "Fantasy",
            "Mystery",
            "Crime",
            "Action",
            "Horror",
            "Thriller",
            "Romance"
           ]
          }
         ],
         "layout": {
          "font": {
           "size": 15
          },
          "title": {
           "font": {
            "size": 28
           },
           "text": "Genre Wise Movie Count: 2007",
           "x": 0.5,
           "xanchor": "center"
          },
          "xaxis": {
           "autorange": false,
           "range": [
            0,
            1600
           ],
           "title": {
            "font": {
             "size": 14
            },
            "text": "Count of Movies"
           }
          },
          "yaxis": {
           "autorange": false,
           "range": [
            -1,
            10
           ],
           "tickfont": {
            "size": 14
           }
          }
         }
        },
        {
         "data": [
          {
           "marker": {
            "color": [
             "magenta",
             "orange",
             "green",
             "yellow",
             "red",
             "blue",
             "purple",
             "cyan",
             "lime"
            ]
           },
           "orientation": "h",
           "text": [
            193,
            244,
            261,
            268,
            439,
            528,
            545,
            717,
            762
           ],
           "type": "bar",
           "width": 0.9,
           "x": [
            193,
            244,
            261,
            268,
            439,
            528,
            545,
            717,
            762
           ],
           "y": [
            "Scifi",
            "Fantasy",
            "Adventure",
            "Mystery",
            "Crime",
            "Action",
            "Horror",
            "Romance",
            "Thriller"
           ]
          }
         ],
         "layout": {
          "font": {
           "size": 15
          },
          "title": {
           "font": {
            "size": 28
           },
           "text": "Genre Wise Movie Count: 2008",
           "x": 0.5,
           "xanchor": "center"
          },
          "xaxis": {
           "autorange": false,
           "range": [
            0,
            1600
           ],
           "title": {
            "font": {
             "size": 14
            },
            "text": "Count of Movies"
           }
          },
          "yaxis": {
           "autorange": false,
           "range": [
            -1,
            10
           ],
           "tickfont": {
            "size": 14
           }
          }
         }
        },
        {
         "data": [
          {
           "marker": {
            "color": [
             "magenta",
             "orange",
             "green",
             "yellow",
             "red",
             "blue",
             "purple",
             "cyan",
             "lime"
            ]
           },
           "orientation": "h",
           "text": [
            255,
            299,
            302,
            358,
            492,
            660,
            681,
            785,
            905
           ],
           "type": "bar",
           "width": 0.9,
           "x": [
            255,
            299,
            302,
            358,
            492,
            660,
            681,
            785,
            905
           ],
           "y": [
            "Scifi",
            "Fantasy",
            "Adventure",
            "Mystery",
            "Crime",
            "Action",
            "Horror",
            "Romance",
            "Thriller"
           ]
          }
         ],
         "layout": {
          "font": {
           "size": 15
          },
          "title": {
           "font": {
            "size": 28
           },
           "text": "Genre Wise Movie Count: 2009",
           "x": 0.5,
           "xanchor": "center"
          },
          "xaxis": {
           "autorange": false,
           "range": [
            0,
            1600
           ],
           "title": {
            "font": {
             "size": 14
            },
            "text": "Count of Movies"
           }
          },
          "yaxis": {
           "autorange": false,
           "range": [
            -1,
            10
           ],
           "tickfont": {
            "size": 14
           }
          }
         }
        },
        {
         "data": [
          {
           "marker": {
            "color": [
             "magenta",
             "orange",
             "green",
             "yellow",
             "red",
             "purple",
             "blue",
             "cyan",
             "lime"
            ]
           },
           "orientation": "h",
           "text": [
            294,
            314,
            341,
            375,
            504,
            710,
            770,
            897,
            971
           ],
           "type": "bar",
           "width": 0.9,
           "x": [
            294,
            314,
            341,
            375,
            504,
            710,
            770,
            897,
            971
           ],
           "y": [
            "Scifi",
            "Fantasy",
            "Adventure",
            "Mystery",
            "Crime",
            "Horror",
            "Action",
            "Romance",
            "Thriller"
           ]
          }
         ],
         "layout": {
          "font": {
           "size": 15
          },
          "title": {
           "font": {
            "size": 28
           },
           "text": "Genre Wise Movie Count: 2010",
           "x": 0.5,
           "xanchor": "center"
          },
          "xaxis": {
           "autorange": false,
           "range": [
            0,
            1600
           ],
           "title": {
            "font": {
             "size": 14
            },
            "text": "Count of Movies"
           }
          },
          "yaxis": {
           "autorange": false,
           "range": [
            -1,
            10
           ],
           "tickfont": {
            "size": 14
           }
          }
         }
        },
        {
         "data": [
          {
           "marker": {
            "color": [
             "magenta",
             "orange",
             "green",
             "yellow",
             "red",
             "blue",
             "purple",
             "cyan",
             "lime"
            ]
           },
           "orientation": "h",
           "text": [
            309,
            368,
            383,
            410,
            501,
            772,
            826,
            881,
            1013
           ],
           "type": "bar",
           "width": 0.9,
           "x": [
            309,
            368,
            383,
            410,
            501,
            772,
            826,
            881,
            1013
           ],
           "y": [
            "Scifi",
            "Fantasy",
            "Adventure",
            "Mystery",
            "Crime",
            "Action",
            "Horror",
            "Romance",
            "Thriller"
           ]
          }
         ],
         "layout": {
          "font": {
           "size": 15
          },
          "title": {
           "font": {
            "size": 28
           },
           "text": "Genre Wise Movie Count: 2011",
           "x": 0.5,
           "xanchor": "center"
          },
          "xaxis": {
           "autorange": false,
           "range": [
            0,
            1600
           ],
           "title": {
            "font": {
             "size": 14
            },
            "text": "Count of Movies"
           }
          },
          "yaxis": {
           "autorange": false,
           "range": [
            -1,
            10
           ],
           "tickfont": {
            "size": 14
           }
          }
         }
        },
        {
         "data": [
          {
           "marker": {
            "color": [
             "magenta",
             "orange",
             "green",
             "yellow",
             "red",
             "blue",
             "cyan",
             "purple",
             "lime"
            ]
           },
           "orientation": "h",
           "text": [
            335,
            355,
            399,
            434,
            547,
            762,
            912,
            929,
            1144
           ],
           "type": "bar",
           "width": 0.9,
           "x": [
            335,
            355,
            399,
            434,
            547,
            762,
            912,
            929,
            1144
           ],
           "y": [
            "Scifi",
            "Fantasy",
            "Adventure",
            "Mystery",
            "Crime",
            "Action",
            "Romance",
            "Horror",
            "Thriller"
           ]
          }
         ],
         "layout": {
          "font": {
           "size": 15
          },
          "title": {
           "font": {
            "size": 28
           },
           "text": "Genre Wise Movie Count: 2012",
           "x": 0.5,
           "xanchor": "center"
          },
          "xaxis": {
           "autorange": false,
           "range": [
            0,
            1600
           ],
           "title": {
            "font": {
             "size": 14
            },
            "text": "Count of Movies"
           }
          },
          "yaxis": {
           "autorange": false,
           "range": [
            -1,
            10
           ],
           "tickfont": {
            "size": 14
           }
          }
         }
        },
        {
         "data": [
          {
           "marker": {
            "color": [
             "orange",
             "magenta",
             "green",
             "yellow",
             "red",
             "blue",
             "purple",
             "cyan",
             "lime"
            ]
           },
           "orientation": "h",
           "text": [
            363,
            404,
            452,
            495,
            626,
            847,
            972,
            1059,
            1391
           ],
           "type": "bar",
           "width": 0.9,
           "x": [
            363,
            404,
            452,
            495,
            626,
            847,
            972,
            1059,
            1391
           ],
           "y": [
            "Fantasy",
            "Scifi",
            "Adventure",
            "Mystery",
            "Crime",
            "Action",
            "Horror",
            "Romance",
            "Thriller"
           ]
          }
         ],
         "layout": {
          "font": {
           "size": 15
          },
          "title": {
           "font": {
            "size": 28
           },
           "text": "Genre Wise Movie Count: 2013",
           "x": 0.5,
           "xanchor": "center"
          },
          "xaxis": {
           "autorange": false,
           "range": [
            0,
            1600
           ],
           "title": {
            "font": {
             "size": 14
            },
            "text": "Count of Movies"
           }
          },
          "yaxis": {
           "autorange": false,
           "range": [
            -1,
            10
           ],
           "tickfont": {
            "size": 14
           }
          }
         }
        },
        {
         "data": [
          {
           "marker": {
            "color": [
             "orange",
             "magenta",
             "green",
             "yellow",
             "red",
             "blue",
             "purple",
             "cyan",
             "lime"
            ]
           },
           "orientation": "h",
           "text": [
            386,
            410,
            484,
            547,
            640,
            909,
            1029,
            1165,
            1460
           ],
           "type": "bar",
           "width": 0.9,
           "x": [
            386,
            410,
            484,
            547,
            640,
            909,
            1029,
            1165,
            1460
           ],
           "y": [
            "Fantasy",
            "Scifi",
            "Adventure",
            "Mystery",
            "Crime",
            "Action",
            "Horror",
            "Romance",
            "Thriller"
           ]
          }
         ],
         "layout": {
          "font": {
           "size": 15
          },
          "title": {
           "font": {
            "size": 28
           },
           "text": "Genre Wise Movie Count: 2014",
           "x": 0.5,
           "xanchor": "center"
          },
          "xaxis": {
           "autorange": false,
           "range": [
            0,
            1600
           ],
           "title": {
            "font": {
             "size": 14
            },
            "text": "Count of Movies"
           }
          },
          "yaxis": {
           "autorange": false,
           "range": [
            -1,
            10
           ],
           "tickfont": {
            "size": 14
           }
          }
         }
        },
        {
         "data": [
          {
           "marker": {
            "color": [
             "orange",
             "magenta",
             "green",
             "yellow",
             "red",
             "blue",
             "purple",
             "cyan",
             "lime"
            ]
           },
           "orientation": "h",
           "text": [
            431,
            436,
            477,
            604,
            680,
            949,
            1064,
            1174,
            1526
           ],
           "type": "bar",
           "width": 0.9,
           "x": [
            431,
            436,
            477,
            604,
            680,
            949,
            1064,
            1174,
            1526
           ],
           "y": [
            "Fantasy",
            "Scifi",
            "Adventure",
            "Mystery",
            "Crime",
            "Action",
            "Horror",
            "Romance",
            "Thriller"
           ]
          }
         ],
         "layout": {
          "font": {
           "size": 15
          },
          "title": {
           "font": {
            "size": 28
           },
           "text": "Genre Wise Movie Count: 2015",
           "x": 0.5,
           "xanchor": "center"
          },
          "xaxis": {
           "autorange": false,
           "range": [
            0,
            1600
           ],
           "title": {
            "font": {
             "size": 14
            },
            "text": "Count of Movies"
           }
          },
          "yaxis": {
           "autorange": false,
           "range": [
            -1,
            10
           ],
           "tickfont": {
            "size": 14
           }
          }
         }
        },
        {
         "data": [
          {
           "marker": {
            "color": [
             "magenta",
             "orange",
             "green",
             "yellow",
             "red",
             "blue",
             "purple",
             "cyan",
             "lime"
            ]
           },
           "orientation": "h",
           "text": [
            448,
            482,
            533,
            625,
            801,
            1042,
            1142,
            1190,
            1605
           ],
           "type": "bar",
           "width": 0.9,
           "x": [
            448,
            482,
            533,
            625,
            801,
            1042,
            1142,
            1190,
            1605
           ],
           "y": [
            "Scifi",
            "Fantasy",
            "Adventure",
            "Mystery",
            "Crime",
            "Action",
            "Horror",
            "Romance",
            "Thriller"
           ]
          }
         ],
         "layout": {
          "font": {
           "size": 15
          },
          "title": {
           "font": {
            "size": 28
           },
           "text": "Genre Wise Movie Count: 2016",
           "x": 0.5,
           "xanchor": "center"
          },
          "xaxis": {
           "autorange": false,
           "range": [
            0,
            1600
           ],
           "title": {
            "font": {
             "size": 14
            },
            "text": "Count of Movies"
           }
          },
          "yaxis": {
           "autorange": false,
           "range": [
            -1,
            10
           ],
           "tickfont": {
            "size": 14
           }
          }
         }
        },
        {
         "data": [
          {
           "marker": {
            "color": [
             "magenta",
             "orange",
             "green",
             "yellow",
             "red",
             "blue",
             "cyan",
             "purple",
             "lime"
            ]
           },
           "orientation": "h",
           "text": [
            468,
            509,
            570,
            628,
            734,
            1077,
            1114,
            1184,
            1560
           ],
           "type": "bar",
           "width": 0.9,
           "x": [
            468,
            509,
            570,
            628,
            734,
            1077,
            1114,
            1184,
            1560
           ],
           "y": [
            "Scifi",
            "Fantasy",
            "Adventure",
            "Mystery",
            "Crime",
            "Action",
            "Romance",
            "Horror",
            "Thriller"
           ]
          }
         ],
         "layout": {
          "font": {
           "size": 15
          },
          "title": {
           "font": {
            "size": 28
           },
           "text": "Genre Wise Movie Count: 2017",
           "x": 0.5,
           "xanchor": "center"
          },
          "xaxis": {
           "autorange": false,
           "range": [
            0,
            1600
           ],
           "title": {
            "font": {
             "size": 14
            },
            "text": "Count of Movies"
           }
          },
          "yaxis": {
           "autorange": false,
           "range": [
            -1,
            10
           ],
           "tickfont": {
            "size": 14
           }
          }
         }
        },
        {
         "data": [
          {
           "marker": {
            "color": [
             "magenta",
             "green",
             "orange",
             "yellow",
             "red",
             "blue",
             "cyan",
             "purple",
             "lime"
            ]
           },
           "orientation": "h",
           "text": [
            447,
            530,
            546,
            628,
            696,
            1034,
            1106,
            1139,
            1580
           ],
           "type": "bar",
           "width": 0.9,
           "x": [
            447,
            530,
            546,
            628,
            696,
            1034,
            1106,
            1139,
            1580
           ],
           "y": [
            "Scifi",
            "Adventure",
            "Fantasy",
            "Mystery",
            "Crime",
            "Action",
            "Romance",
            "Horror",
            "Thriller"
           ]
          }
         ],
         "layout": {
          "font": {
           "size": 15
          },
          "title": {
           "font": {
            "size": 28
           },
           "text": "Genre Wise Movie Count: 2018",
           "x": 0.5,
           "xanchor": "center"
          },
          "xaxis": {
           "autorange": false,
           "range": [
            0,
            1600
           ],
           "title": {
            "font": {
             "size": 14
            },
            "text": "Count of Movies"
           }
          },
          "yaxis": {
           "autorange": false,
           "range": [
            -1,
            10
           ],
           "tickfont": {
            "size": 14
           }
          }
         }
        },
        {
         "data": [
          {
           "marker": {
            "color": [
             "magenta",
             "orange",
             "green",
             "yellow",
             "red",
             "cyan",
             "blue",
             "purple",
             "lime"
            ]
           },
           "orientation": "h",
           "text": [
            404,
            455,
            509,
            580,
            700,
            1024,
            1061,
            1084,
            1510
           ],
           "type": "bar",
           "width": 0.9,
           "x": [
            404,
            455,
            509,
            580,
            700,
            1024,
            1061,
            1084,
            1510
           ],
           "y": [
            "Scifi",
            "Fantasy",
            "Adventure",
            "Mystery",
            "Crime",
            "Romance",
            "Action",
            "Horror",
            "Thriller"
           ]
          }
         ],
         "layout": {
          "font": {
           "size": 15
          },
          "title": {
           "font": {
            "size": 28
           },
           "text": "Genre Wise Movie Count: 2019",
           "x": 0.5,
           "xanchor": "center"
          },
          "xaxis": {
           "autorange": false,
           "range": [
            0,
            1600
           ],
           "title": {
            "font": {
             "size": 14
            },
            "text": "Count of Movies"
           }
          },
          "yaxis": {
           "autorange": false,
           "range": [
            -1,
            10
           ],
           "tickfont": {
            "size": 14
           }
          }
         }
        },
        {
         "data": [
          {
           "marker": {
            "color": [
             "magenta",
             "green",
             "orange",
             "yellow",
             "red",
             "blue",
             "cyan",
             "purple",
             "lime"
            ]
           },
           "orientation": "h",
           "text": [
            369,
            405,
            406,
            449,
            514,
            734,
            737,
            1003,
            1216
           ],
           "type": "bar",
           "width": 0.9,
           "x": [
            369,
            405,
            406,
            449,
            514,
            734,
            737,
            1003,
            1216
           ],
           "y": [
            "Scifi",
            "Adventure",
            "Fantasy",
            "Mystery",
            "Crime",
            "Action",
            "Romance",
            "Horror",
            "Thriller"
           ]
          }
         ],
         "layout": {
          "font": {
           "size": 15
          },
          "title": {
           "font": {
            "size": 28
           },
           "text": "Genre Wise Movie Count: 2020",
           "x": 0.5,
           "xanchor": "center"
          },
          "xaxis": {
           "autorange": false,
           "range": [
            0,
            1600
           ],
           "title": {
            "font": {
             "size": 14
            },
            "text": "Count of Movies"
           }
          },
          "yaxis": {
           "autorange": false,
           "range": [
            -1,
            10
           ],
           "tickfont": {
            "size": 14
           }
          }
         }
        },
        {
         "data": [
          {
           "marker": {
            "color": [
             "orange",
             "green",
             "magenta",
             "yellow",
             "red",
             "cyan",
             "blue",
             "purple",
             "lime"
            ]
           },
           "orientation": "h",
           "text": [
            405,
            428,
            440,
            479,
            586,
            778,
            906,
            1045,
            1365
           ],
           "type": "bar",
           "width": 0.9,
           "x": [
            405,
            428,
            440,
            479,
            586,
            778,
            906,
            1045,
            1365
           ],
           "y": [
            "Fantasy",
            "Adventure",
            "Scifi",
            "Mystery",
            "Crime",
            "Romance",
            "Action",
            "Horror",
            "Thriller"
           ]
          }
         ],
         "layout": {
          "font": {
           "size": 15
          },
          "title": {
           "font": {
            "size": 28
           },
           "text": "Genre Wise Movie Count: 2021",
           "x": 0.5,
           "xanchor": "center"
          },
          "xaxis": {
           "autorange": false,
           "range": [
            0,
            1600
           ],
           "title": {
            "font": {
             "size": 14
            },
            "text": "Count of Movies"
           }
          },
          "yaxis": {
           "autorange": false,
           "range": [
            -1,
            10
           ],
           "tickfont": {
            "size": 14
           }
          }
         }
        }
       ],
       "layout": {
        "autosize": true,
        "paper_bgcolor": "rgba(0, 0, 0, 0)",
        "plot_bgcolor": "rgba(0, 0, 0, 0)",
        "template": {
         "data": {
          "bar": [
           {
            "error_x": {
             "color": "#2a3f5f"
            },
            "error_y": {
             "color": "#2a3f5f"
            },
            "marker": {
             "line": {
              "color": "#E5ECF6",
              "width": 0.5
             },
             "pattern": {
              "fillmode": "overlay",
              "size": 10,
              "solidity": 0.2
             }
            },
            "type": "bar"
           }
          ],
          "barpolar": [
           {
            "marker": {
             "line": {
              "color": "#E5ECF6",
              "width": 0.5
             },
             "pattern": {
              "fillmode": "overlay",
              "size": 10,
              "solidity": 0.2
             }
            },
            "type": "barpolar"
           }
          ],
          "carpet": [
           {
            "aaxis": {
             "endlinecolor": "#2a3f5f",
             "gridcolor": "white",
             "linecolor": "white",
             "minorgridcolor": "white",
             "startlinecolor": "#2a3f5f"
            },
            "baxis": {
             "endlinecolor": "#2a3f5f",
             "gridcolor": "white",
             "linecolor": "white",
             "minorgridcolor": "white",
             "startlinecolor": "#2a3f5f"
            },
            "type": "carpet"
           }
          ],
          "choropleth": [
           {
            "colorbar": {
             "outlinewidth": 0,
             "ticks": ""
            },
            "type": "choropleth"
           }
          ],
          "contour": [
           {
            "colorbar": {
             "outlinewidth": 0,
             "ticks": ""
            },
            "colorscale": [
             [
              0,
              "#0d0887"
             ],
             [
              0.1111111111111111,
              "#46039f"
             ],
             [
              0.2222222222222222,
              "#7201a8"
             ],
             [
              0.3333333333333333,
              "#9c179e"
             ],
             [
              0.4444444444444444,
              "#bd3786"
             ],
             [
              0.5555555555555556,
              "#d8576b"
             ],
             [
              0.6666666666666666,
              "#ed7953"
             ],
             [
              0.7777777777777778,
              "#fb9f3a"
             ],
             [
              0.8888888888888888,
              "#fdca26"
             ],
             [
              1,
              "#f0f921"
             ]
            ],
            "type": "contour"
           }
          ],
          "contourcarpet": [
           {
            "colorbar": {
             "outlinewidth": 0,
             "ticks": ""
            },
            "type": "contourcarpet"
           }
          ],
          "heatmap": [
           {
            "colorbar": {
             "outlinewidth": 0,
             "ticks": ""
            },
            "colorscale": [
             [
              0,
              "#0d0887"
             ],
             [
              0.1111111111111111,
              "#46039f"
             ],
             [
              0.2222222222222222,
              "#7201a8"
             ],
             [
              0.3333333333333333,
              "#9c179e"
             ],
             [
              0.4444444444444444,
              "#bd3786"
             ],
             [
              0.5555555555555556,
              "#d8576b"
             ],
             [
              0.6666666666666666,
              "#ed7953"
             ],
             [
              0.7777777777777778,
              "#fb9f3a"
             ],
             [
              0.8888888888888888,
              "#fdca26"
             ],
             [
              1,
              "#f0f921"
             ]
            ],
            "type": "heatmap"
           }
          ],
          "heatmapgl": [
           {
            "colorbar": {
             "outlinewidth": 0,
             "ticks": ""
            },
            "colorscale": [
             [
              0,
              "#0d0887"
             ],
             [
              0.1111111111111111,
              "#46039f"
             ],
             [
              0.2222222222222222,
              "#7201a8"
             ],
             [
              0.3333333333333333,
              "#9c179e"
             ],
             [
              0.4444444444444444,
              "#bd3786"
             ],
             [
              0.5555555555555556,
              "#d8576b"
             ],
             [
              0.6666666666666666,
              "#ed7953"
             ],
             [
              0.7777777777777778,
              "#fb9f3a"
             ],
             [
              0.8888888888888888,
              "#fdca26"
             ],
             [
              1,
              "#f0f921"
             ]
            ],
            "type": "heatmapgl"
           }
          ],
          "histogram": [
           {
            "marker": {
             "pattern": {
              "fillmode": "overlay",
              "size": 10,
              "solidity": 0.2
             }
            },
            "type": "histogram"
           }
          ],
          "histogram2d": [
           {
            "colorbar": {
             "outlinewidth": 0,
             "ticks": ""
            },
            "colorscale": [
             [
              0,
              "#0d0887"
             ],
             [
              0.1111111111111111,
              "#46039f"
             ],
             [
              0.2222222222222222,
              "#7201a8"
             ],
             [
              0.3333333333333333,
              "#9c179e"
             ],
             [
              0.4444444444444444,
              "#bd3786"
             ],
             [
              0.5555555555555556,
              "#d8576b"
             ],
             [
              0.6666666666666666,
              "#ed7953"
             ],
             [
              0.7777777777777778,
              "#fb9f3a"
             ],
             [
              0.8888888888888888,
              "#fdca26"
             ],
             [
              1,
              "#f0f921"
             ]
            ],
            "type": "histogram2d"
           }
          ],
          "histogram2dcontour": [
           {
            "colorbar": {
             "outlinewidth": 0,
             "ticks": ""
            },
            "colorscale": [
             [
              0,
              "#0d0887"
             ],
             [
              0.1111111111111111,
              "#46039f"
             ],
             [
              0.2222222222222222,
              "#7201a8"
             ],
             [
              0.3333333333333333,
              "#9c179e"
             ],
             [
              0.4444444444444444,
              "#bd3786"
             ],
             [
              0.5555555555555556,
              "#d8576b"
             ],
             [
              0.6666666666666666,
              "#ed7953"
             ],
             [
              0.7777777777777778,
              "#fb9f3a"
             ],
             [
              0.8888888888888888,
              "#fdca26"
             ],
             [
              1,
              "#f0f921"
             ]
            ],
            "type": "histogram2dcontour"
           }
          ],
          "mesh3d": [
           {
            "colorbar": {
             "outlinewidth": 0,
             "ticks": ""
            },
            "type": "mesh3d"
           }
          ],
          "parcoords": [
           {
            "line": {
             "colorbar": {
              "outlinewidth": 0,
              "ticks": ""
             }
            },
            "type": "parcoords"
           }
          ],
          "pie": [
           {
            "automargin": true,
            "type": "pie"
           }
          ],
          "scatter": [
           {
            "fillpattern": {
             "fillmode": "overlay",
             "size": 10,
             "solidity": 0.2
            },
            "type": "scatter"
           }
          ],
          "scatter3d": [
           {
            "line": {
             "colorbar": {
              "outlinewidth": 0,
              "ticks": ""
             }
            },
            "marker": {
             "colorbar": {
              "outlinewidth": 0,
              "ticks": ""
             }
            },
            "type": "scatter3d"
           }
          ],
          "scattercarpet": [
           {
            "marker": {
             "colorbar": {
              "outlinewidth": 0,
              "ticks": ""
             }
            },
            "type": "scattercarpet"
           }
          ],
          "scattergeo": [
           {
            "marker": {
             "colorbar": {
              "outlinewidth": 0,
              "ticks": ""
             }
            },
            "type": "scattergeo"
           }
          ],
          "scattergl": [
           {
            "marker": {
             "colorbar": {
              "outlinewidth": 0,
              "ticks": ""
             }
            },
            "type": "scattergl"
           }
          ],
          "scattermapbox": [
           {
            "marker": {
             "colorbar": {
              "outlinewidth": 0,
              "ticks": ""
             }
            },
            "type": "scattermapbox"
           }
          ],
          "scatterpolar": [
           {
            "marker": {
             "colorbar": {
              "outlinewidth": 0,
              "ticks": ""
             }
            },
            "type": "scatterpolar"
           }
          ],
          "scatterpolargl": [
           {
            "marker": {
             "colorbar": {
              "outlinewidth": 0,
              "ticks": ""
             }
            },
            "type": "scatterpolargl"
           }
          ],
          "scatterternary": [
           {
            "marker": {
             "colorbar": {
              "outlinewidth": 0,
              "ticks": ""
             }
            },
            "type": "scatterternary"
           }
          ],
          "surface": [
           {
            "colorbar": {
             "outlinewidth": 0,
             "ticks": ""
            },
            "colorscale": [
             [
              0,
              "#0d0887"
             ],
             [
              0.1111111111111111,
              "#46039f"
             ],
             [
              0.2222222222222222,
              "#7201a8"
             ],
             [
              0.3333333333333333,
              "#9c179e"
             ],
             [
              0.4444444444444444,
              "#bd3786"
             ],
             [
              0.5555555555555556,
              "#d8576b"
             ],
             [
              0.6666666666666666,
              "#ed7953"
             ],
             [
              0.7777777777777778,
              "#fb9f3a"
             ],
             [
              0.8888888888888888,
              "#fdca26"
             ],
             [
              1,
              "#f0f921"
             ]
            ],
            "type": "surface"
           }
          ],
          "table": [
           {
            "cells": {
             "fill": {
              "color": "#EBF0F8"
             },
             "line": {
              "color": "white"
             }
            },
            "header": {
             "fill": {
              "color": "#C8D4E3"
             },
             "line": {
              "color": "white"
             }
            },
            "type": "table"
           }
          ]
         },
         "layout": {
          "annotationdefaults": {
           "arrowcolor": "#2a3f5f",
           "arrowhead": 0,
           "arrowwidth": 1
          },
          "autotypenumbers": "strict",
          "coloraxis": {
           "colorbar": {
            "outlinewidth": 0,
            "ticks": ""
           }
          },
          "colorscale": {
           "diverging": [
            [
             0,
             "#8e0152"
            ],
            [
             0.1,
             "#c51b7d"
            ],
            [
             0.2,
             "#de77ae"
            ],
            [
             0.3,
             "#f1b6da"
            ],
            [
             0.4,
             "#fde0ef"
            ],
            [
             0.5,
             "#f7f7f7"
            ],
            [
             0.6,
             "#e6f5d0"
            ],
            [
             0.7,
             "#b8e186"
            ],
            [
             0.8,
             "#7fbc41"
            ],
            [
             0.9,
             "#4d9221"
            ],
            [
             1,
             "#276419"
            ]
           ],
           "sequential": [
            [
             0,
             "#0d0887"
            ],
            [
             0.1111111111111111,
             "#46039f"
            ],
            [
             0.2222222222222222,
             "#7201a8"
            ],
            [
             0.3333333333333333,
             "#9c179e"
            ],
            [
             0.4444444444444444,
             "#bd3786"
            ],
            [
             0.5555555555555556,
             "#d8576b"
            ],
            [
             0.6666666666666666,
             "#ed7953"
            ],
            [
             0.7777777777777778,
             "#fb9f3a"
            ],
            [
             0.8888888888888888,
             "#fdca26"
            ],
            [
             1,
             "#f0f921"
            ]
           ],
           "sequentialminus": [
            [
             0,
             "#0d0887"
            ],
            [
             0.1111111111111111,
             "#46039f"
            ],
            [
             0.2222222222222222,
             "#7201a8"
            ],
            [
             0.3333333333333333,
             "#9c179e"
            ],
            [
             0.4444444444444444,
             "#bd3786"
            ],
            [
             0.5555555555555556,
             "#d8576b"
            ],
            [
             0.6666666666666666,
             "#ed7953"
            ],
            [
             0.7777777777777778,
             "#fb9f3a"
            ],
            [
             0.8888888888888888,
             "#fdca26"
            ],
            [
             1,
             "#f0f921"
            ]
           ]
          },
          "colorway": [
           "#636efa",
           "#EF553B",
           "#00cc96",
           "#ab63fa",
           "#FFA15A",
           "#19d3f3",
           "#FF6692",
           "#B6E880",
           "#FF97FF",
           "#FECB52"
          ],
          "font": {
           "color": "#2a3f5f"
          },
          "geo": {
           "bgcolor": "white",
           "lakecolor": "white",
           "landcolor": "#E5ECF6",
           "showlakes": true,
           "showland": true,
           "subunitcolor": "white"
          },
          "hoverlabel": {
           "align": "left"
          },
          "hovermode": "closest",
          "mapbox": {
           "style": "light"
          },
          "paper_bgcolor": "white",
          "plot_bgcolor": "#E5ECF6",
          "polar": {
           "angularaxis": {
            "gridcolor": "white",
            "linecolor": "white",
            "ticks": ""
           },
           "bgcolor": "#E5ECF6",
           "radialaxis": {
            "gridcolor": "white",
            "linecolor": "white",
            "ticks": ""
           }
          },
          "scene": {
           "xaxis": {
            "backgroundcolor": "#E5ECF6",
            "gridcolor": "white",
            "gridwidth": 2,
            "linecolor": "white",
            "showbackground": true,
            "ticks": "",
            "zerolinecolor": "white"
           },
           "yaxis": {
            "backgroundcolor": "#E5ECF6",
            "gridcolor": "white",
            "gridwidth": 2,
            "linecolor": "white",
            "showbackground": true,
            "ticks": "",
            "zerolinecolor": "white"
           },
           "zaxis": {
            "backgroundcolor": "#E5ECF6",
            "gridcolor": "white",
            "gridwidth": 2,
            "linecolor": "white",
            "showbackground": true,
            "ticks": "",
            "zerolinecolor": "white"
           }
          },
          "shapedefaults": {
           "line": {
            "color": "#2a3f5f"
           }
          },
          "ternary": {
           "aaxis": {
            "gridcolor": "white",
            "linecolor": "white",
            "ticks": ""
           },
           "baxis": {
            "gridcolor": "white",
            "linecolor": "white",
            "ticks": ""
           },
           "bgcolor": "#E5ECF6",
           "caxis": {
            "gridcolor": "white",
            "linecolor": "white",
            "ticks": ""
           }
          },
          "title": {
           "x": 0.05
          },
          "xaxis": {
           "automargin": true,
           "gridcolor": "white",
           "linecolor": "white",
           "ticks": "",
           "title": {
            "standoff": 15
           },
           "zerolinecolor": "white",
           "zerolinewidth": 2
          },
          "yaxis": {
           "automargin": true,
           "gridcolor": "white",
           "linecolor": "white",
           "ticks": "",
           "title": {
            "standoff": 15
           },
           "zerolinecolor": "white",
           "zerolinewidth": 2
          }
         }
        },
        "title": {
         "font": {
          "size": 28
         },
         "text": "Genre Wise Movie Count: 1980",
         "x": 0.5,
         "xanchor": "center"
        },
        "updatemenus": [
         {
          "buttons": [
           {
            "args": [
             null,
             {
              "frame": {
               "duration": 1000,
               "redraw": true
              },
              "transition": {
               "duration": 250,
               "easing": "quadratic-in-out"
              }
             }
            ],
            "label": "      Play     ",
            "method": "animate"
           }
          ],
          "direction": "left",
          "pad": {
           "r": 20,
           "t": 10
          },
          "showactive": true,
          "type": "buttons",
          "x": 0,
          "xanchor": "left",
          "y": -0.02,
          "yanchor": "top"
         }
        ],
        "xaxis": {
         "autorange": false,
         "range": [
          0,
          1600
         ],
         "title": {
          "font": {
           "size": 14
          },
          "text": "Count of Movies"
         },
         "type": "linear"
        },
        "yaxis": {
         "autorange": false,
         "range": [
          -1,
          10
         ],
         "tickfont": {
          "size": 14
         },
         "type": "category"
        }
       }
      },
      "image/png": "[encoded data removed]"
     },
     "metadata": {},
     "output_type": "display_data"
    }
   ],
   "source": [
    "def getGenreOverYearsScatter(release_year):\n",
    "    counts_per_year = release_year.value_counts().sort_index().to_frame()\n",
    "    counts_per_year.reset_index(inplace=True)\n",
    "    # Filter out movies released before 1980\n",
    "    counts_per_year = counts_per_year[counts_per_year['Release Year'] >= 1980]\n",
    "    fig = go.Figure(data = go.Scatter(x = counts_per_year['Release Year'], y = counts_per_year['count']))\n",
    "    # Update layout\n",
    "    fig.update_layout(title={'text': f'TV Shows Count Per Year','font': {'color': 'white'}},\n",
    "    plot_bgcolor='rgba(0,0,0,0)', \n",
    "    paper_bgcolor='rgba(0,0,0,0)',\n",
    "    xaxis=dict(title='Year', titlefont=dict(color='white'), gridcolor='grey', tickfont=dict(color='white')),  # Set x-axis title, title color, grid color, and tick label color\n",
    "    yaxis=dict(title='TV Shows Count', titlefont=dict(color='white'), gridcolor='grey', tickfont=dict(color='white')),  # Set y-axis title, title color, grid color, and tick label color\n",
    "    \n",
    "    )\n",
    "    \n",
    "    return fig\n",
    "# Dictionary to store figures for each genre\n",
    "genre_year_scatter_figures_dict = {}\n",
    "\n",
    "# Iterate through each genre DataFrame in the tv_series_dict dictionary\n",
    "for genre, df in tv_series_dict.items():\n",
    "    # Run the function for the current genre DataFrame and store the resulting figure\n",
    "    genre_year_scatter_figures_dict[genre] = getGenreOverYearsScatter(df['Release Year'])\n",
    "\n",
    "# Dictionary to store figures for each genre for movies\n",
    "genre_year_scatter_figures_dict_movies = {}\n",
    "\n",
    "# Iterate through each genre DataFrame in the movies_dict dictionary\n",
    "for genre, df in movies_dict.items():\n",
    "    # Run the function for the current genre DataFrame and store the resulting figure\n",
    "    genre_year_scatter_figures_dict_movies[genre] = getGenreOverYearsScatter(df['Release Year'])\n",
    "\n",
    "\n",
    "@app.callback(\n",
    "    Output('genre-charts_SS', 'figure'),\n",
    "    [Input('genre-dropdown_SS', 'value')]\n",
    ")\n",
    "def update_genre_charts(selected_genres):\n",
    "    # Create empty figure with subplots\n",
    "    fig = make_subplots(rows=1, cols=2, subplot_titles=('TV Shows Count Per Year', 'Movies Count Per Year'))\n",
    "\n",
    "    # Iterate through selected genres\n",
    "    for genre in selected_genres:\n",
    "        # Add traces for TV shows\n",
    "        trace_tv = genre_year_scatter_figures_dict[genre]['data'][0]  # Assuming only one trace per figure\n",
    "        trace_tv['name'] = genre\n",
    "        # Increase the width of markers\n",
    "        trace_tv['marker']['size'] = 15\n",
    "        fig.add_trace(trace_tv, row=1, col=1)\n",
    "\n",
    "        # Add traces for movies\n",
    "        trace_movies = genre_year_scatter_figures_dict_movies[genre]['data'][0]  # Assuming only one trace per figure\n",
    "        trace_movies['name'] = genre\n",
    "        # Increase the width of markers\n",
    "        trace_movies['marker']['size'] = 15\n",
    "        fig.add_trace(trace_movies, row=1, col=2)\n",
    "\n",
    "    # Update layout\n",
    "    fig.update_layout(height=600, width=1000, showlegend=False,plot_bgcolor='rgba(0,0,0,0)', \n",
    "    paper_bgcolor='rgba(0,0,0,0)',\n",
    "    xaxis=dict(gridcolor='grey', tickfont=dict(color='white')),  # Set x-axis title, title color, grid color, and tick label color\n",
    "    yaxis=dict(titlefont=dict(color='white'), gridcolor='grey', tickfont=dict(color='white')),  # Set y-axis title, title color, grid color, and tick label color\n",
    "    )\n",
    "\n",
    "    return fig\n",
    "\n",
    "def getGenreOverYearsBar(dictionary):\n",
    "    # Define the range of years\n",
    "    years = list(range(1980, 2022))\n",
    "    count_year_wise_dict = {str(year): {} for year in years}\n",
    "    color_list = ['blue', 'green', 'red', 'orange', 'purple', 'yellow', 'cyan', 'magenta', 'lime', 'pink']\n",
    "    # Iterate over the years and populate the dictionary\n",
    "    for year in years:\n",
    "        for genre in dictionary.keys():\n",
    "            count_year_wise_dict[str(year)][genre] = {}\n",
    "    genre_count_year = {}\n",
    "    for year in years:\n",
    "        genre_count = {}\n",
    "        for genre,df in dictionary.items():\n",
    "            genre_count[genre] =  len(df[df['Release Year']==year])\n",
    "        temp_df = pd.DataFrame.from_dict(genre_count,orient='index').reset_index()\n",
    "        temp_df.columns = ['Genre','Count']\n",
    "\n",
    "        # Assign colors to each genre\n",
    "        num_colors = len(color_list)\n",
    "        color_index = 0\n",
    "        genre_colors = {}\n",
    "\n",
    "        for genre in temp_df['Genre'].unique():\n",
    "            genre_colors[genre] = color_list[color_index]\n",
    "            color_index = (color_index + 1) % num_colors\n",
    "\n",
    "        # Map colors to genres\n",
    "        temp_df['Color'] = temp_df['Genre'].map(genre_colors)\n",
    "        genre_count_year[str(year)] = temp_df\n",
    "        genre_count_year[str(year)] = genre_count_year[str(year)].sort_values(by='Count')\n",
    "    return genre_count_year\n",
    "\n",
    "def getGenreOverYearsBarMovies(dictionary):\n",
    "    # Define the range of years\n",
    "    years = list(range(1980, 2022))\n",
    "    count_year_wise_dict = {str(year): {} for year in years}\n",
    "    color_list = ['blue', 'green', 'red', 'orange', 'purple', 'yellow', 'cyan', 'magenta', 'lime', 'pink']\n",
    "    # Iterate over the years and populate the dictionary\n",
    "    for year in years:\n",
    "        for genre in dictionary.keys():\n",
    "            count_year_wise_dict[str(year)][genre] = {}\n",
    "    genre_count_year = {}\n",
    "    for year in years:\n",
    "        genre_count = {}\n",
    "        for genre, df in dictionary.items():\n",
    "            genre_count[genre] = len(df[df['Release Year'] == year])\n",
    "        temp_df = pd.DataFrame.from_dict(genre_count, orient='index').reset_index()\n",
    "        temp_df.columns = ['Genre', 'Count']\n",
    "\n",
    "        # Assign colors to each genre\n",
    "        num_colors = len(color_list)\n",
    "        color_index = 0\n",
    "        genre_colors = {}\n",
    "\n",
    "        for genre in temp_df['Genre'].unique():\n",
    "            genre_colors[genre] = color_list[color_index]\n",
    "            color_index = (color_index + 1) % num_colors\n",
    "\n",
    "        # Map colors to genres\n",
    "        temp_df['Color'] = temp_df['Genre'].map(genre_colors)\n",
    "        genre_count_year[str(year)] = temp_df\n",
    "        genre_count_year[str(year)] = genre_count_year[str(year)].sort_values(by='Count')\n",
    "    return genre_count_year\n",
    "\n",
    "def update_violin_chart(selected_genre):\n",
    "    # Filter data for TV shows\n",
    "    tv_data = tv_series_dict[selected_genre]\n",
    "    tv_data = tv_data[tv_data['Certificate'].isin([\"R\", \"PG-13\", \"TV-MA\", \"TV-14\", \"PG\"])]\n",
    "\n",
    "    # Filter data for movies\n",
    "    movie_data = movies_dict[selected_genre]  # Assuming you have a dictionary 'movie_dict' with movie data\n",
    "    movie_data = movie_data[movie_data['Certificate'].isin([\"R\", \"PG-13\", \"TV-MA\", \"TV-14\", \"PG\"])]\n",
    "\n",
    "    # Create subplots\n",
    "    fig = make_subplots(rows=2, cols=1, subplot_titles=(\"TV Shows\", \"Movies\"))\n",
    "\n",
    "    # Add violin chart for TV shows\n",
    "    fig.add_trace(\n",
    "        go.Violin(y=tv_data['Rating'], x=tv_data['Certificate'], box_visible=True, line_color='black',\n",
    "                  meanline_visible=True, fillcolor='pink', opacity=0.6, name='Rating Distribution - TV Shows'),\n",
    "        row=1, col=1\n",
    "    )\n",
    "\n",
    "    # Add violin chart for movies\n",
    "    fig.add_trace(\n",
    "        go.Violin(y=movie_data['Rating'], x=movie_data['Certificate'], box_visible=True, line_color='black',\n",
    "                  meanline_visible=True, fillcolor='lightblue', opacity=0.6, name='Rating Distribution - Movies'),\n",
    "        row=2, col=1\n",
    "    )\n",
    "\n",
    "    # Update layout\n",
    "    fig.update_layout(title=f\"Rating Distribution for {selected_genre}\",\n",
    "                      height=800,\n",
    "                      plot_bgcolor='rgba(0,0,0,0)', \n",
    "                      paper_bgcolor='rgba(0,0,0,0)',\n",
    "                      xaxis=dict(title='Certificate', titlefont=dict(color='white'), gridcolor='grey', tickfont=dict(color='white')),  # Set x-axis title, title color, grid color, and tick label color\n",
    "                      yaxis=dict(title='Rating', titlefont=dict(color='white'), gridcolor='grey', tickfont=dict(color='white')),  # Set y-axis title, title color, grid color, and tick label color\n",
    "                      legend={'font': {'color': 'white'}}  # Change legend text color to white\n",
    "                      )\n",
    "\n",
    "    return fig\n",
    "\n",
    "@app.callback(\n",
    "    Output('violin-chart_SS2', 'figure'),\n",
    "    [Input('genre-dropdown_SS2', 'value')]\n",
    ")\n",
    "def update_chart(selected_genre):\n",
    "    return update_violin_chart(selected_genre)\n",
    "\n",
    "# Define function to get genre rating line chart\n",
    "def getGenreRatingLineChart(selected_genres):\n",
    "    fig = go.Figure()\n",
    "    for genre in selected_genres:\n",
    "        data = tv_series_dict[genre]\n",
    "        data = data[data['Release Year'] != 2023]\n",
    "        yearly_total_rating_df = data.groupby('Release Year')['Rating'].sum().reset_index()\n",
    "\n",
    "        # Add trace for the genre\n",
    "        fig.add_trace(go.Scatter(x=yearly_total_rating_df['Release Year'], y=yearly_total_rating_df['Rating'], mode='lines', name=genre))\n",
    "\n",
    "    # Update layout\n",
    "    fig.update_layout(\n",
    "        title={'text':f'Total Rating Over Years','font': {'color': 'white'}},\n",
    "        plot_bgcolor='rgba(0,0,0,0)', \n",
    "        paper_bgcolor='rgba(0,0,0,0)',\n",
    "        xaxis=dict(title='Year', titlefont=dict(color='white'), gridcolor='grey', tickfont=dict(color='white')),  # Set x-axis title, title color, grid color, and tick label color\n",
    "    yaxis=dict(title='Total Rating', titlefont=dict(color='white'), gridcolor='grey', tickfont=dict(color='white')),  # Set y-axis title, title color, grid color, and tick label color\n",
    "    \n",
    "    )\n",
    "\n",
    "    return fig\n",
    "\n",
    "@app.callback(\n",
    "    Output('rating-line-chart_SS4', 'figure'),\n",
    "    [Input('genre-dropdown_SS4', 'value')]\n",
    ")\n",
    "def update_rating_line_chart(selected_genres):\n",
    "    return getGenreRatingLineChart(selected_genres)\n",
    "\n",
    "\n",
    "def getGenreRatingLineChart(selected_genres):\n",
    "    fig = go.Figure()\n",
    "    for genre in selected_genres:\n",
    "        data = tv_series_dict[genre]\n",
    "        # Remove year 2023\n",
    "        yearly_median_rating_df = data.groupby('Release Year')['Rating'].median().reset_index()\n",
    "\n",
    "        # Add trace for the genre\n",
    "        fig.add_trace(go.Scatter(x=yearly_median_rating_df['Release Year'], y=yearly_median_rating_df['Rating'], mode='lines', name=genre))\n",
    "\n",
    "         # Update layout\n",
    "        fig.update_layout(\n",
    "            plot_bgcolor='rgba(0,0,0,0)', \n",
    "            paper_bgcolor='rgba(0,0,0,0)'\n",
    "        )\n",
    "\n",
    "\n",
    "    # Update layout\n",
    "    fig.update_layout(\n",
    "        title={'text':'Median Rating of TV Shows Per Year','font':{'color':'white'}},\n",
    "        plot_bgcolor='rgba(0,0,0,0)', \n",
    "        paper_bgcolor='rgba(0,0,0,0)',\n",
    "        xaxis=dict(title='Year', titlefont=dict(color='white'), gridcolor='grey', tickfont=dict(color='white')),  # Set x-axis title, title color, grid color, and tick label color\n",
    "        yaxis=dict(title='AMedian Rating', titlefont=dict(color='white'), gridcolor='grey', tickfont=dict(color='white')),  # Set y-axis title, title color, grid color, and tick label color\n",
    "        legend={'font': {'color': 'white'}}  # Change legend text color to white\n",
    "\n",
    "    )\n",
    "\n",
    "    return fig\n",
    "\n",
    "@app.callback(\n",
    "    Output('rating-line-chart_SS5', 'figure'),\n",
    "    [Input('genre-dropdown_SS5', 'value')]\n",
    ")\n",
    "def update_rating_line_chart(selected_genres):\n",
    "    return getGenreRatingLineChart(selected_genres)\n",
    "\n",
    "# YearWise how rating is affected-Genre Wise\n",
    "def getYearGenreRatingArea(selected_genre):\n",
    "    data = tv_series_dict[selected_genre]\n",
    "    # Filter data based on selected certificates\n",
    "    filtered_data = data[data['Certificate'].isin([\"R\",\"PG-13\",\"TV-MA\",\"TV-14\",\"PG\"])]\n",
    "\n",
    "\n",
    "    # Group by year and certificate, calculate average rating\n",
    "    certificate_ratings = filtered_data.groupby(['Release Year', 'Certificate'])['Rating'].median().unstack()\n",
    "\n",
    "    # Delete Year which have NaN as a rating\n",
    "    certificate_ratings = certificate_ratings.dropna()\n",
    "    certificate_ratings = certificate_ratings.reset_index()\n",
    "\n",
    "    # Create a color list with a visually distinct palette\n",
    "    color_palette = ['firebrick', 'royalblue', 'forestgreen', 'orange', 'purple']\n",
    "\n",
    "    # Create a Trace for each certificate\n",
    "    fig = make_subplots(rows=3, cols=2, vertical_spacing=0.05)\n",
    "    for i, certificate in enumerate([\"R\",\"PG-13\",\"TV-MA\",\"TV-14\",\"PG\"]):\n",
    "        trace = go.Scatter(\n",
    "            x=certificate_ratings['Release Year'],\n",
    "            y=certificate_ratings[certificate],\n",
    "            name=certificate,\n",
    "            mode='lines+markers',  # Include both lines and data points\n",
    "            line=dict(color=color_palette[i%5], width=2),  # Consistent line style\n",
    "            marker=dict(size=8, symbol='circle'),  # Clearer markers\n",
    "        )\n",
    "        fig.append_trace(trace, row=i//2 + 1, col=i%2 + 1)\n",
    "    fig.update_layout(\n",
    "        title=\"Average Rating by Release Year (Selected Certificates)\",\n",
    "        height=800,\n",
    "        xaxis_title=dict(text='Rating', font=dict(size=16)),\n",
    "        plot_bgcolor='rgba(0,0,0,0)', \n",
    "        paper_bgcolor='rgba(0,0,0,0)',\n",
    "        xaxis=dict(title='Rating', titlefont=dict(color='white'), gridcolor='grey', tickfont=dict(color='white')),  # Set x-axis title, title color, grid color, and tick label color\n",
    "        yaxis=dict(title='Years', titlefont=dict(color='white'), gridcolor='grey', tickfont=dict(color='white')),  # Set y-axis title, title color, grid color, and tick label color\n",
    "        legend={'font': {'color': 'white'}}  # Change legend text color to white\n",
    "\n",
    "    )\n",
    "    return fig\n",
    "\n",
    "# Define callback to update the chart based on selected genre\n",
    "@app.callback(\n",
    "    Output('rating-chart_SS6', 'figure'),\n",
    "    [Input('genre-dropdown_SS6', 'value')]\n",
    ")\n",
    "def update_chart(selected_genre):\n",
    "    return getYearGenreRatingArea(selected_genre)\n",
    "\n",
    "# Define function to get genre runtime line chart\n",
    "def getGenreRuntimeLineChart(selected_genres):\n",
    "    fig = go.Figure()\n",
    "    for genre in selected_genres:\n",
    "        data = tv_series_dict[genre]\n",
    "        # Remove year 2023\n",
    "        yearly_median_runtime_df = data.groupby('Release Year')['Runtime'].median().reset_index()\n",
    "\n",
    "        # Add trace for the genre\n",
    "        fig.add_trace(go.Scatter(x=yearly_median_runtime_df['Release Year'], y=yearly_median_runtime_df['Runtime'], mode='lines', name=genre))\n",
    "\n",
    "    # Update layout\n",
    "    fig.update_layout(\n",
    "        title={'text':'Median Runtime of TV Shows Per Year','font':{'color':'white'}},\n",
    "        plot_bgcolor='rgba(0,0,0,0)', \n",
    "        paper_bgcolor='rgba(0,0,0,0)',\n",
    "        xaxis=dict(title='Year', titlefont=dict(color='white'), gridcolor='grey', tickfont=dict(color='white')),  # Set x-axis title, title color, grid color, and tick label color\n",
    "    yaxis=dict(title='Median Runtime', titlefont=dict(color='white'), gridcolor='grey', tickfont=dict(color='white')),  # Set y-axis title, title color, grid color, and tick label color\n",
    "    legend={'font': {'color': 'white'}}  # Change legend text color to white\n",
    "\n",
    "    )\n",
    "\n",
    "    return fig\n",
    "\n",
    "@app.callback(\n",
    "    Output('runtime-line-chart_SS7', 'figure'),\n",
    "    [Input('genre-dropdown_SS7', 'value')]\n",
    ")\n",
    "def update_runtime_line_chart(selected_genres):\n",
    "    return getGenreRuntimeLineChart(selected_genres)\n",
    "\n",
    "# Define function to get genre runtime year-wise bar chart\n",
    "def getGenreRuntimeYearWiseBar(selected_year):\n",
    "    genre_data = []\n",
    "    for genre, df in tv_series_dict.items():\n",
    "        year_genre_data = df[df['Release Year'] == selected_year]\n",
    "        if not year_genre_data.empty:\n",
    "            avg_runtime = year_genre_data['Runtime'].mean()\n",
    "            genre_data.append({'Genre': genre, 'Average Runtime': avg_runtime})\n",
    "    \n",
    "    # Create DataFrame from genre_data\n",
    "    genre_df = pd.DataFrame(genre_data)\n",
    "\n",
    "    # Sort the DataFrame by 'Average Runtime' in ascending order\n",
    "    #genre_df = genre_df.sort_values(by='Average Runtime', ascending=True)\n",
    "\n",
    "    # Create bar chart\n",
    "    fig = go.Figure()\n",
    "\n",
    "    # Add bars to the figure\n",
    "    fig.add_trace(go.Bar(\n",
    "        x=genre_df['Genre'],\n",
    "        y=genre_df['Average Runtime'],\n",
    "        marker=dict(color=genre_df['Average Runtime'], colorbar=dict(title='Average Runtime')),  # Color bars based on 'Average Runtime' with a color scale\n",
    "    ))\n",
    "\n",
    "    # Update layout\n",
    "    fig.update_layout(\n",
    "        title={'text':f'Average Runtime of TV Shows for the {selected_year}s','font': {'color': 'white'}},\n",
    "        xaxis=dict(title = 'Genre',titlefont=dict(color='white'), gridcolor='grey', tickfont=dict(color='white')),\n",
    "        yaxis=dict(title = 'Average Runtime',titlefont=dict(color='white'), gridcolor='grey', tickfont=dict(color='white')),\n",
    "        plot_bgcolor='rgba(0,0,0,0)', \n",
    "        paper_bgcolor='rgba(0,0,0,0)' \n",
    "    )\n",
    "    return fig\n",
    "\n",
    "# Define callback to update the bar chart based on the selected decade\n",
    "@app.callback(\n",
    "    Output('genre-runtime-bar_SS8', 'figure'),\n",
    "    [Input('decade-slider_SS8', 'value')]\n",
    ")\n",
    "def update_genre_runtime_bar(selected_decade):\n",
    "    # Adjust selected year to the mid-year of the decade\n",
    "    try:\n",
    "        return getGenreRuntimeYearWiseBar(selected_decade)\n",
    "    except KeyError:\n",
    "        # Handle the KeyError, e.g., by displaying a message or a default figure\n",
    "        return go.Figure()\n",
    "\n",
    "def getGenreYearGrossScatter(selected_genre):\n",
    "    data = tv_series_revenue_df[selected_genre][['Release Year', 'Gross Revenue(million $)']]\n",
    "    \n",
    "    # Group by 'Release Year' and sum 'Gross Revenue(million $)' for each year\n",
    "    grouped_data = data.groupby('Release Year', observed=False)['Gross Revenue(million $)'].sum().reset_index()\n",
    "    \n",
    "    \n",
    "    # Count the number of movies released each year\n",
    "    movie_counts = data['Release Year'].value_counts().reset_index()\n",
    "    movie_counts.columns = ['Release Year', 'Movie Count']\n",
    "    \n",
    "    # Merge grouped_data with movie_counts to get the count of movies released each year\n",
    "    grouped_data = pd.merge(grouped_data, movie_counts, on='Release Year')\n",
    "    # Calculate average gross revenue per movie released each year\n",
    "    grouped_data['Average Gross Revenue per Movie'] = grouped_data['Gross Revenue(million $)'] / grouped_data['Movie Count']\n",
    "    grouped_data = grouped_data.reset_index(drop=True)\n",
    "    \n",
    "    # Remove outliers from the calculated average\n",
    "    mean = grouped_data['Average Gross Revenue per Movie'].mean()\n",
    "    std_dev = grouped_data['Average Gross Revenue per Movie'].std()\n",
    "    lower_bound = mean - std_dev  # Adjust as needed\n",
    "    upper_bound = mean + std_dev  # Adjust as needed\n",
    "    grouped_data = grouped_data[(grouped_data['Average Gross Revenue per Movie'] >= lower_bound) & \n",
    "                                (grouped_data['Average Gross Revenue per Movie'] <= upper_bound)]\n",
    "    \n",
    "    grouped_data = grouped_data.reset_index(drop=True)\n",
    "    return grouped_data\n",
    "\n",
    "# Define the callback to update the scatter plot based on the selected genre\n",
    "@app.callback(\n",
    "    Output('scatter-plot_SS9', 'figure'),\n",
    "    [Input('genre-dropdown_SS9', 'value')]\n",
    ")\n",
    "def update_bar_plot(selected_genre):\n",
    "    grouped_data = getGenreYearGrossScatter(selected_genre)\n",
    "    \n",
    "    # Define color scale based on average gross revenue per movie\n",
    "    colorbar_title = 'Revenue (million $)'\n",
    "    \n",
    "    # Create the bar plot\n",
    "    fig = go.Figure()\n",
    "    fig.add_trace(go.Bar(\n",
    "        x=grouped_data['Release Year'],\n",
    "        y=grouped_data['Average Gross Revenue per Movie'],\n",
    "        marker=dict(color=grouped_data['Average Gross Revenue per Movie'], colorbar=dict(title=colorbar_title)),\n",
    "    ))\n",
    "\n",
    "    # Update layout\n",
    "    fig.update_layout(\n",
    "        title={'text': f'Bar Plot - Average Gross Revenue per Movie Vs Release Year for {selected_genre} Genre','font': {'color': 'white'}},\n",
    "        plot_bgcolor='rgba(0,0,0,0)', \n",
    "        paper_bgcolor='rgba(0,0,0,0)',\n",
    "        xaxis=dict(title='Release Year',titlefont=dict(color='white'), gridcolor='grey', tickfont=dict(color='white')),  # Set x-axis title and grid color\n",
    "        yaxis=dict(title='Average Gross Revenue per Movie (million $)',titlefont=dict(color='white'), gridcolor='grey', tickfont=dict(color='white')),  # Set y-axis title and grid color\n",
    "        legend={'font': {'color': 'yellow'}}\n",
    "        \n",
    "    )\n",
    "    \n",
    "    return fig\n",
    "\n",
    "fig_movies.update_layout(plot_bgcolor='rgba(0,0,0,0)', \n",
    "        paper_bgcolor='rgba(0,0,0,0)')\n"
   ]
  },
  {
   "cell_type": "markdown",
   "id": "e74eca83-0d9f-42de-958b-b86c5629d866",
   "metadata": {},
   "source": [
    "### **Vipul and Vishnu Tab**"
   ]
  },
  {
   "cell_type": "code",
   "execution_count": null,
   "id": "77dd1943-1ab9-4a63-bcd7-f1723c924054",
   "metadata": {},
   "outputs": [],
   "source": []
  },
  {
   "cell_type": "code",
   "execution_count": 243,
   "id": "261e83cd-d953-424b-8de9-a9f6a123de98",
   "metadata": {},
   "outputs": [],
   "source": [
    "import pickle\n",
    "with open('Vipul/figV1.pkl', 'rb') as file:\n",
    "    figV1 = pickle.load(file)\n",
    "\n",
    "with open('Vipul/time_traces.pkl', 'rb') as file:\n",
    "    time_traces = pickle.load(file)\n",
    "\n",
    "with open('Vipul/df_top_critic_pntve.pkl', 'rb') as file:\n",
    "    df_top_critic_pntve = pickle.load(file)\n",
    "\n",
    "with open('Vipul/top_actors_by_genre.pkl', 'rb') as file:\n",
    "    top_actors_by_genre = pickle.load(file)\n",
    "\n",
    "with open('Vipul/dictionary_top_5_directors_each_genre.pkl', 'rb') as file:\n",
    "    dictionary_top_5_directors_each_genre = pickle.load(file)\n",
    "\n",
    "with open('Vipul/indices_top_5_directors_each_genre.pkl', 'rb') as file:\n",
    "    indices_top_5_directors_each_genre = pickle.load(file)\n",
    "\n",
    "with open('Vipul/df_top5_productions.pkl', 'rb') as file:\n",
    "    df_top5_productions = pickle.load(file)\n",
    "\n",
    "with open('Vipul/df_content.pkl', 'rb') as file:\n",
    "    df_content = pickle.load(file)\n",
    "\n",
    "\n",
    "\n",
    "genrelist = ['Action & Adventure', 'Comedy', 'Drama', 'Science Fiction & Fantasy', 'Romance', 'Classics', 'Kids & Family', 'Mystery & Suspense', 'Western', 'Art House & International', 'Horror', 'Faith & Spirituality', 'Animation', 'Documentary', 'Special Interest', 'Musical & Performing Arts', 'Sports & Fitness', 'Television', 'Cult Movies', 'Anime & Manga', 'Gay & Lesbian', '']\n",
    "\n",
    "@app.callback(\n",
    "    Output('genre-line-chart', 'figure'),\n",
    "    [Input('genre-dropdown', 'value')]\n",
    ")\n",
    "def update_line_chart(selected_genres):\n",
    "    traces = []\n",
    "    for genre in selected_genres:\n",
    "        genre_df = time_traces[genre]\n",
    "        trace = go.Scatter(\n",
    "            x=genre_df['year'],\n",
    "            y=genre_df['positive_reviews'],\n",
    "            mode='lines',\n",
    "            name=genre\n",
    "        )\n",
    "        traces.append(trace)\n",
    "    layout = go.Layout(\n",
    "        title='Positive Reviews Over Years',\n",
    "        xaxis={'title': 'Year'},\n",
    "        yaxis={'title': 'Positive Reviews'},\n",
    "        hovermode='closest'\n",
    "    )\n",
    "    return {'data': traces, 'layout': layout}\n",
    "\n",
    "@app.callback(\n",
    "    Output('genre-graph', 'figure'),\n",
    "    [\n",
    "        Input('genre-dropdown3', 'value'),\n",
    "        Input('top-directors-slider', 'value'),\n",
    "        Input('plot-type-radio', 'value')\n",
    "    ]\n",
    ")\n",
    "def update_genre_graph(selected_genre, num_top_directors, plot_type):\n",
    "    directors = dictionary_top_5_directors_each_genre[selected_genre + 'Ratio'][:num_top_directors]\n",
    "    top_directors_pve = df_top_critic_pntve.loc[indices_top_5_directors_each_genre[selected_genre + 'Ratio'][:num_top_directors], selected_genre + 'P'].tolist()\n",
    "    top_directors_nve = df_top_critic_pntve.loc[indices_top_5_directors_each_genre[selected_genre + 'Ratio'][:num_top_directors], selected_genre + 'N'].tolist()\n",
    "    \n",
    "    if plot_type == 'bar':\n",
    "        fig = go.Figure(data=[\n",
    "            go.Bar(name='Positive Reviews', x=directors, y=top_directors_pve),\n",
    "            go.Bar(name='Negative Reviews', x=directors, y=top_directors_nve)\n",
    "        ])\n",
    "        fig.update_layout(\n",
    "            title=f'Reviews for Top {num_top_directors} Directors in {selected_genre}',\n",
    "            barmode='group',\n",
    "            xaxis_title='Directors',\n",
    "            yaxis_title='Number of Reviews'\n",
    "        )\n",
    "    elif plot_type == 'pie':\n",
    "        fig = go.Figure(data=[\n",
    "            go.Pie(labels=directors, values=top_directors_pve, name='Positive Reviews'),\n",
    "            go.Pie(labels=directors, values=top_directors_nve, name='Negative Reviews')\n",
    "        ])\n",
    "        fig.update_layout(\n",
    "            title=f'Reviews Distribution for Top {num_top_directors} Directors in {selected_genre}'\n",
    "        )\n",
    "    \n",
    "    return fig\n",
    "\n",
    "@app.callback(\n",
    "    Output('actor-bar-chart', 'figure'),\n",
    "    [Input('genre-dropdown2', 'value')]\n",
    ")\n",
    "def update_bar_chart(selected_genre):\n",
    "    # Get DataFrame of top actors for selected genre\n",
    "    top_actors_df = top_actors_by_genre[selected_genre]\n",
    "    \n",
    "    # Create bar chart data\n",
    "    data = [\n",
    "        go.Bar(name='Positive Reviews', x=top_actors_df['actors'], y=top_actors_df['positive_reviews']),\n",
    "        go.Bar(name='Negative Reviews', x=top_actors_df['actors'], y=top_actors_df['negative_reviews'])\n",
    "    ]\n",
    "    \n",
    "    # Create bar chart layout\n",
    "    layout = go.Layout(\n",
    "        title=f'Top 5 Actors in {selected_genre}',\n",
    "        barmode='group',  # Display bars side by side\n",
    "        xaxis={'title': 'Actors'},\n",
    "        yaxis={'title': 'Number of Reviews'}\n",
    "    )\n",
    "    \n",
    "    # Create bar chart figure\n",
    "    figure = {'data': data, 'layout': layout}\n",
    "    \n",
    "    return figure\n",
    "\n",
    "@app.callback(\n",
    "    Output('rating-pie-chart', 'figure'),\n",
    "    [Input('company-dropdown', 'value')]\n",
    ")\n",
    "def update_pie_chart(selected_company):\n",
    "    # Filter data for the selected production company\n",
    "    selected_data = df_top5_productions[df_top5_productions['production_company'] == selected_company]\n",
    "    \n",
    "    # Extract ratings and corresponding values\n",
    "    ratings = ['PG', 'R', 'NR', 'G', 'PG-13', 'NC17']\n",
    "    values = [selected_data[rating].values[0] for rating in ratings]\n",
    "    \n",
    "    # Create pie chart using Plotly\n",
    "    fig = go.Figure(data=[go.Pie(labels=ratings, values=values)])\n",
    "    fig.update_layout(title=f'Content Ratings Distribution for {selected_company}')\n",
    "    \n",
    "    return fig\n",
    "\n",
    "\n",
    "@app.callback(\n",
    "    Output('genre-treemapV', 'figure'),\n",
    "    [Input('genre-dropdownV', 'value')]\n",
    ")\n",
    "def update_genre_treemap(selected_genre):\n",
    "    selected_row = df_content[df_content['Genre'] == selected_genre]\n",
    "    \n",
    "    fig = px.treemap(\n",
    "        selected_row.melt(id_vars='Genre', var_name='Rating', value_name='Count'),\n",
    "        path=['Genre', 'Rating'],\n",
    "        values='Count',\n",
    "        color='Count',\n",
    "        color_continuous_scale='RdBu',\n",
    "        title=f'Treemap for {selected_genre}'\n",
    "    )\n",
    "    \n",
    "    return fig\n",
    "\n"
   ]
  },
  {
   "cell_type": "markdown",
   "id": "c6644a25-4360-4374-aca8-0dafea5b7026",
   "metadata": {},
   "source": [
    "# Anshul and Ruby tab"
   ]
  },
  {
   "cell_type": "code",
   "execution_count": 244,
   "id": "989da480-dbf2-4cbc-9442-d43b4f343d5f",
   "metadata": {},
   "outputs": [],
   "source": [
    "with open('Anshul/A1.pkl', 'rb') as file:\n",
    "    A1 = pickle.load(file)\n",
    "\n",
    "with open('Anshul/A2.pkl', 'rb') as file:\n",
    "    A2 = pickle.load(file)\n",
    "\n",
    "with open('Anshul/A3.pkl', 'rb') as file:\n",
    "    A3 = pickle.load(file)\n",
    "\n",
    "with open('Anshul/A4.pkl', 'rb') as file:\n",
    "    A4 = pickle.load(file)\n",
    "\n",
    "with open('Anshul/A5.pkl', 'rb') as file:\n",
    "    A5 = pickle.load(file)\n",
    "\n",
    "with open('Anshul/A6.pkl', 'rb') as file:\n",
    "    A6 = pickle.load(file)\n",
    "\n",
    "with open('Anshul/A7.pkl', 'rb') as file:\n",
    "    A7 = pickle.load(file)\n",
    "\n",
    "with open('Anshul/A8.pkl', 'rb') as file:\n",
    "    A8 = pickle.load(file)\n",
    "\n",
    "with open('Anshul/A9.pkl', 'rb') as file:\n",
    "    A9 = pickle.load(file)\n",
    "\n",
    "\n",
    "#load pickle dataset for dash plot\n",
    "    \n",
    "#callback"
   ]
  },
  {
   "cell_type": "code",
   "execution_count": null,
   "id": "e68606bf-c7a4-4ae5-9b59-07ff4f1f4c72",
   "metadata": {},
   "outputs": [],
   "source": []
  },
  {
   "cell_type": "code",
   "execution_count": null,
   "id": "a7e4e835-8472-420b-a98f-c04bd508563d",
   "metadata": {},
   "outputs": [],
   "source": []
  },
  {
   "cell_type": "markdown",
   "id": "b0efc083-790f-4487-a9b4-dea435d49753",
   "metadata": {},
   "source": [
    "# Web APP"
   ]
  },
  {
   "cell_type": "code",
   "execution_count": 245,
   "id": "3a21a6b2-3f3d-439d-ba69-f7089882589a",
   "metadata": {
    "scrolled": true
   },
   "outputs": [],
   "source": [
    "\n",
    "\n",
    "app.layout = html.Div([\n",
    "    dcc.Tabs(\n",
    "        id='tabs',\n",
    "        value='tab-1',\n",
    "        children=[\n",
    "            dcc.Tab(label='Tab 1', value='tab-1'),\n",
    "            dcc.Tab(label='Anshul', value='tab-2'),\n",
    "            dcc.Tab(label='Tab 3', value='tab-3'),\n",
    "            dcc.Tab(label='Vipul', value='tab-4'),\n",
    "        ],\n",
    "          # Apply custom styling directly to the Tabs component\n",
    "    ),\n",
    "    html.Div(id='tabs-content')\n",
    "], style={'background-image': 'linear-gradient(to right, black, darkgrey)',\n",
    "                  'background-size': '400% 400%',}) # Setting background color directly in layout\n",
    "\n",
    "\n",
    "\n",
    "@app.callback(Output('tabs-content', 'children'),\n",
    "              [Input('tabs', 'value')])\n",
    "def render_content(tab):\n",
    "    if tab == 'tab-1':\n",
    "        return html.Div([\n",
    "           dcc.Dropdown(\n",
    "                id='genre-dropdown_SS',\n",
    "                options=[\n",
    "                    {'label': html.Span(f'genre', style={'color': '#26D7FF'}), 'value': genre} for genre in genre_year_scatter_figures_dict.keys()\n",
    "                ],\n",
    "                value=['Action'],  # Default value (multiple)\n",
    "                multi=True,  # Allow multiple selections\n",
    "                clearable=False, \n",
    "                style={'background-color': 'rgba(0, 0, 0, 0)', 'color': '#26D7FF'} \n",
    "\n",
    "            ),\n",
    "            dcc.Graph(id='genre-charts_SS'),\n",
    "            dcc.Graph(\n",
    "                id='fig_movies_SS',\n",
    "                figure=fig_movies.update_layout(plot_bgcolor='rgba(0,0,0,0)', paper_bgcolor='rgba(0,0,0,0)',title={'font': {'color': 'white'}}, xaxis=dict(titlefont=dict(color='white'), gridcolor='grey', tickfont=dict(color='white')),  # Set x-axis title, title color, grid color, and tick label color\n",
    "    yaxis=dict(titlefont=dict(color='white'), gridcolor='grey', tickfont=dict(color='white')),  # Set y-axis title, title color, grid color, and tick label color\n",
    "    )\n",
    "            ),\n",
    "            dcc.Dropdown(\n",
    "                id='genre-dropdown_SS2',\n",
    "                options=[\n",
    "                    {'label': html.Span(genre, style={'color': '#26D7FF'}), 'value': genre} for genre in genre_year_scatter_figures_dict.keys()\n",
    "                ],\n",
    "                value='Action',  # Default value\n",
    "                clearable=False,\n",
    "                style = {'background-color': 'rgba(0, 0, 0, 1)', 'color': 'black'}\n",
    "            ),\n",
    "            dcc.Graph(id='violin-chart_SS2'),\n",
    "            dcc.Dropdown(\n",
    "                id='genre-dropdown_SS4',\n",
    "                options=[{'label': html.Span(genre, style={'color': '#26D7FF'}), 'value': genre} for genre in tv_series_dict.keys()],\n",
    "                value=['Action','Horror'],  # Default value\n",
    "                multi=True,  # Allow multiple selections\n",
    "                clearable=False,\n",
    "                style = {'background-color': 'rgba(0, 0, 0, 0)', 'color': '#26D7FF'}\n",
    "            ),\n",
    "            dcc.Graph(id='rating-line-chart_SS4'),\n",
    "            dcc.Dropdown(\n",
    "                id='genre-dropdown_SS5',\n",
    "                options=[{'label': html.Span(genre, style={'color': '#26D7FF'}), 'value': genre} for genre in tv_series_dict.keys()],\n",
    "                value=['Action','Horror','Romance'],  # Default value\n",
    "                multi=True,  # Allow multiple selections\n",
    "                clearable=False,\n",
    "                style = {'background-color': 'rgba(0, 0, 0, 0)', 'color': '#26D7FF'}\n",
    "            ),\n",
    "            dcc.Graph(id='rating-line-chart_SS5'),\n",
    "            html.H1(\"TV Series Rating Distribution\",style={'color': 'white'}),\n",
    "            dcc.Dropdown(\n",
    "                id='genre-dropdown_SS6',\n",
    "                options=[{'label': html.Span(genre, style={'color': '#26D7FF'}), 'value': genre} for genre in tv_series_dict.keys()],\n",
    "                value='Action',\n",
    "                style={'background-color': 'rgba(0, 0, 0, 0)', 'color': '#26D7FF'}\n",
    "            ),\n",
    "            dcc.Graph(id='rating-chart_SS6'),\n",
    "            dcc.Dropdown(\n",
    "                id='genre-dropdown_SS7',\n",
    "                options=[{'label': html.Span(genre, style={'color': '#26D7FF'}), 'value': genre} for genre in tv_series_dict.keys()],\n",
    "                value=['Action','Horror','Romance'],  # Default value\n",
    "                multi=True,  # Allow multiple selections\n",
    "                clearable=False,\n",
    "                style = {'background-color': 'rgba(0, 0, 0, 0)', 'color': '#26D7FF'}\n",
    "            ),\n",
    "            dcc.Graph(\n",
    "                id='runtime-line-chart_SS7',\n",
    "            ),\n",
    "            dcc.Slider(\n",
    "                id='decade-slider_SS8',\n",
    "                min=1980,\n",
    "                max=2023,\n",
    "                value=2021,  # Default value\n",
    "                marks={year: f'{year}s' for year in range(1980, 2021, 10)},\n",
    "                step=None,\n",
    "                included=False # Trigger callback only on mouseup\n",
    "            ),\n",
    "            dcc.Graph(id='genre-runtime-bar_SS8'),\n",
    "            dcc.Dropdown(\n",
    "                id='genre-dropdown_SS9',\n",
    "                options=[{'label': html.Span(genre, style={'color': '#26D7FF'}), 'value': genre} for genre in tv_series_revenue_df.keys()],\n",
    "                value='Action',  # Default value\n",
    "                style = {'background-color': 'rgba(0, 0, 0, 0)', 'color': '#26D7FF'}\n",
    "            ),\n",
    "            dcc.Graph(id='scatter-plot_SS9')\n",
    "            \n",
    "        ],\n",
    "        style={\n",
    "            'background-image': 'linear-gradient(to right, black, darkgrey)',\n",
    "            'background-size': '400% 400%',}\n",
    "        )\n",
    "    elif tab == 'tab-2':\n",
    "        return html.Div([\n",
    "            html.H3('Tab 2 content'),\n",
    "            dcc.Graph(\n",
    "                id='A1',\n",
    "                figure=A1\n",
    "            ),\n",
    "            dcc.Graph(\n",
    "                id='A2',\n",
    "                figure=A2\n",
    "            ),\n",
    "            dcc.Graph(\n",
    "                id='A3',\n",
    "                figure=A3\n",
    "            ),\n",
    "            dcc.Graph(\n",
    "                id='A4',\n",
    "                figure=A4\n",
    "            ),\n",
    "            dcc.Graph(\n",
    "                id='A5',\n",
    "                figure=A5\n",
    "            ),\n",
    "            dcc.Graph(\n",
    "                id='A6',\n",
    "                figure=A6\n",
    "            ),\n",
    "            dcc.Graph(\n",
    "                id='A7',\n",
    "                figure=A7\n",
    "            ),\n",
    "            dcc.Graph(\n",
    "                id='A8',\n",
    "                figure=A8\n",
    "            ),\n",
    "            dcc.Graph(\n",
    "                id='A9',\n",
    "                figure=A9\n",
    "            )\n",
    "            \n",
    "            \n",
    "        ])\n",
    "    elif tab == 'tab-3':\n",
    "        return html.Div([\n",
    "            html.H3('Tab 3 content'),\n",
    "            dcc.Graph(\n",
    "                id='tab3-graph',\n",
    "                figure={\n",
    "                    'data': [\n",
    "                        {'labels': ['A', 'B', 'C'], 'values': [1, 2, 3], 'type': 'pie', 'name': 'Pie chart'},\n",
    "                    ],\n",
    "                    'layout': {\n",
    "                        'title': 'Tab 3 Plot'\n",
    "                    }\n",
    "                }\n",
    "            )\n",
    "        ])\n",
    "    elif tab == 'tab-4':\n",
    "        return html.Div([\n",
    "            html.H3('Tab 4 content'),\n",
    "            #graph1\n",
    "            dcc.Graph(\n",
    "                id='tab4-graph',\n",
    "                figure=figV1  # Assuming figV1 is defined elsewhere\n",
    "            ),\n",
    "            #graph2\n",
    "            dcc.Dropdown(\n",
    "                id='genre-dropdown',\n",
    "                options=[{'label': genre, 'value': genre} for genre in time_traces.keys()],\n",
    "                value=['Animation'],  # Default selected genres\n",
    "                multi=True  # Allow multiple selections\n",
    "            ),\n",
    "            #graph3\n",
    "            dcc.Graph(id='genre-line-chart'),\n",
    "            dcc.Dropdown(\n",
    "                id='genre-dropdown2',\n",
    "                options=[{'label': genre, 'value': genre} for genre in top_actors_by_genre.keys()],\n",
    "                value=list(top_actors_by_genre.keys())[0],  # Default value for dropdown (first genre)\n",
    "                style={'width': '50%'}\n",
    "            ),\n",
    "            #graph4\n",
    "            dcc.Graph(id='actor-bar-chart'),\n",
    "            dcc.Dropdown(\n",
    "                id='genre-dropdown3',\n",
    "                options=[{'label': genre, 'value': genre} for genre in genrelist],\n",
    "                value=genrelist[0],\n",
    "                clearable=False,\n",
    "                style={'width': '50%'}\n",
    "            ),\n",
    "            # Slider for selecting number of top directors\n",
    "            dcc.Slider(\n",
    "                id='top-directors-slider',\n",
    "                min=1,\n",
    "                max=5,\n",
    "                step=1,\n",
    "                value=5,\n",
    "                marks={i: str(i) for i in range(1, 6)},\n",
    "            ),\n",
    "            # Radio buttons for plot type\n",
    "            dcc.RadioItems(\n",
    "                id='plot-type-radio',\n",
    "                options=[\n",
    "                    {'label': 'Bar Chart', 'value': 'bar'},\n",
    "                    {'label': 'Pie Chart', 'value': 'pie'}\n",
    "                ],\n",
    "                value='bar',\n",
    "                labelStyle={'display': 'block'}\n",
    "            ),\n",
    "            \n",
    "            # Graph display\n",
    "            dcc.Graph(id='genre-graph'),\n",
    "\n",
    "            dcc.Dropdown(\n",
    "                id='company-dropdown',\n",
    "                options=[{'label': company, 'value': company} for company in df_top5_productions['production_company']],\n",
    "                value=df_top5_productions['production_company'][0]  # Default value is the first production company\n",
    "            ),\n",
    "            dcc.Graph(id='rating-pie-chart'),\n",
    "\n",
    "            dcc.Dropdown(\n",
    "                id='genre-dropdownV',\n",
    "                options=[{'label': genre, 'value': genre} for genre in genrelist],\n",
    "                value=genrelist[0],\n",
    "                style={'width': '50%'}\n",
    "            ),\n",
    "             dcc.Graph(id='genre-treemapV')\n",
    "            \n",
    "            \n",
    "        ])\n",
    "\n",
    "\n"
   ]
  },
  {
   "cell_type": "code",
   "execution_count": null,
   "id": "f21285a7-962e-40a0-b245-9993accaa7ac",
   "metadata": {},
   "outputs": [],
   "source": []
  },
  {
   "cell_type": "code",
   "execution_count": null,
   "id": "78be2ad1-435c-4106-9cc2-8d1f51124294",
   "metadata": {},
   "outputs": [],
   "source": []
  },
  {
   "cell_type": "code",
   "execution_count": 246,
   "id": "c75f0998-8341-4688-b921-3d632df4f137",
   "metadata": {
    "scrolled": true
   },
   "outputs": [
    {
     "data": {
      "text/html": [
       "\n",
       "        <iframe\n",
       "            width=\"100%\"\n",
       "            height=\"650\"\n",
       "            src=\"http://127.0.0.1:7889/\"\n",
       "            frameborder=\"0\"\n",
       "            allowfullscreen\n",
       "            \n",
       "        ></iframe>\n",
       "        "
      ],
      "text/plain": [
       "<IPython.lib.display.IFrame at 0x1aa7ebce4e0>"
      ]
     },
     "metadata": {},
     "output_type": "display_data"
    }
   ],
   "source": [
    "# Run the app\n",
    "if __name__ == '__main__':\n",
    "    app.run_server(debug=True, port=7889)\n",
    "\n",
    "# http://127.0.0.1:8005/\n"
   ]
  },
  {
   "cell_type": "code",
   "execution_count": null,
   "id": "b9b5fabc-bfe9-44c2-aa39-47bb96c204c3",
   "metadata": {},
   "outputs": [],
   "source": []
  },
  {
   "cell_type": "code",
   "execution_count": null,
   "id": "8d16e269-378a-42e8-a75c-7e0bc2c7b52e",
   "metadata": {},
   "outputs": [],
   "source": []
  }
 ],
 "metadata": {
  "kernelspec": {
   "display_name": "Python 3 (ipykernel)",
   "language": "python",
   "name": "python3"
  },
  "language_info": {
   "codemirror_mode": {
    "name": "ipython",
    "version": 3
   },
   "file_extension": ".py",
   "mimetype": "text/x-python",
   "name": "python",
   "nbconvert_exporter": "python",
   "pygments_lexer": "ipython3",
   "version": "3.11.8"
  }
 },
 "nbformat": 4,
 "nbformat_minor": 5
}
